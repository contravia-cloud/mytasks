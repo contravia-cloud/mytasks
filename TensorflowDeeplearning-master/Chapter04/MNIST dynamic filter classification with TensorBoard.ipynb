{
 "cells": [
  {
   "cell_type": "markdown",
   "metadata": {},
   "source": [
    "**[MDT-01]** 필요한 모듈을 임포트하고 난수의 시드를 설정한다."
   ]
  },
  {
   "cell_type": "code",
   "execution_count": 1,
   "metadata": {},
   "outputs": [],
   "source": [
    "import tensorflow as tf\n",
    "import numpy as np\n",
    "import matplotlib.pyplot as plt\n",
    "from tensorflow.examples.tutorials.mnist import input_data\n",
    "\n",
    "np.random.seed(20160703)\n",
    "tf.set_random_seed(20160703)"
   ]
  },
  {
   "cell_type": "markdown",
   "metadata": {},
   "source": [
    "**[MDT-02]** MNIST 데이터 세트를 준비한다."
   ]
  },
  {
   "cell_type": "code",
   "execution_count": 2,
   "metadata": {},
   "outputs": [
    {
     "name": "stdout",
     "output_type": "stream",
     "text": [
      "WARNING:tensorflow:From <ipython-input-2-7da058911bcf>:1: read_data_sets (from tensorflow.contrib.learn.python.learn.datasets.mnist) is deprecated and will be removed in a future version.\n",
      "Instructions for updating:\n",
      "Please use alternatives such as official/mnist/dataset.py from tensorflow/models.\n",
      "WARNING:tensorflow:From c:\\workspace\\mytasks_ven\\lib\\site-packages\\tensorflow_core\\contrib\\learn\\python\\learn\\datasets\\mnist.py:260: maybe_download (from tensorflow.contrib.learn.python.learn.datasets.base) is deprecated and will be removed in a future version.\n",
      "Instructions for updating:\n",
      "Please write your own downloading logic.\n",
      "WARNING:tensorflow:From c:\\workspace\\mytasks_ven\\lib\\site-packages\\tensorflow_core\\contrib\\learn\\python\\learn\\datasets\\base.py:252: _internal_retry.<locals>.wrap.<locals>.wrapped_fn (from tensorflow.contrib.learn.python.learn.datasets.base) is deprecated and will be removed in a future version.\n",
      "Instructions for updating:\n",
      "Please use urllib or similar directly.\n",
      "Successfully downloaded train-images-idx3-ubyte.gz 9912422 bytes.\n",
      "WARNING:tensorflow:From c:\\workspace\\mytasks_ven\\lib\\site-packages\\tensorflow_core\\contrib\\learn\\python\\learn\\datasets\\mnist.py:262: extract_images (from tensorflow.contrib.learn.python.learn.datasets.mnist) is deprecated and will be removed in a future version.\n",
      "Instructions for updating:\n",
      "Please use tf.data to implement this functionality.\n",
      "Extracting tmp/data/train-images-idx3-ubyte.gz\n",
      "Successfully downloaded train-labels-idx1-ubyte.gz 28881 bytes.\n",
      "WARNING:tensorflow:From c:\\workspace\\mytasks_ven\\lib\\site-packages\\tensorflow_core\\contrib\\learn\\python\\learn\\datasets\\mnist.py:267: extract_labels (from tensorflow.contrib.learn.python.learn.datasets.mnist) is deprecated and will be removed in a future version.\n",
      "Instructions for updating:\n",
      "Please use tf.data to implement this functionality.\n",
      "Extracting tmp/data/train-labels-idx1-ubyte.gz\n",
      "WARNING:tensorflow:From c:\\workspace\\mytasks_ven\\lib\\site-packages\\tensorflow_core\\contrib\\learn\\python\\learn\\datasets\\mnist.py:110: dense_to_one_hot (from tensorflow.contrib.learn.python.learn.datasets.mnist) is deprecated and will be removed in a future version.\n",
      "Instructions for updating:\n",
      "Please use tf.one_hot on tensors.\n",
      "Successfully downloaded t10k-images-idx3-ubyte.gz 1648877 bytes.\n",
      "Extracting tmp/data/t10k-images-idx3-ubyte.gz\n",
      "Successfully downloaded t10k-labels-idx1-ubyte.gz 4542 bytes.\n",
      "Extracting tmp/data/t10k-labels-idx1-ubyte.gz\n",
      "WARNING:tensorflow:From c:\\workspace\\mytasks_ven\\lib\\site-packages\\tensorflow_core\\contrib\\learn\\python\\learn\\datasets\\mnist.py:290: DataSet.__init__ (from tensorflow.contrib.learn.python.learn.datasets.mnist) is deprecated and will be removed in a future version.\n",
      "Instructions for updating:\n",
      "Please use alternatives such as official/mnist/dataset.py from tensorflow/models.\n"
     ]
    }
   ],
   "source": [
    "mnist = input_data.read_data_sets(\"tmp/data/\", one_hot=True)"
   ]
  },
  {
   "cell_type": "markdown",
   "metadata": {},
   "source": [
    "**[MDT-03]** 합성곱 필터가 한 계층인 CNN을 표현하는 클래스를 정의한다."
   ]
  },
  {
   "cell_type": "code",
   "execution_count": 12,
   "metadata": {},
   "outputs": [],
   "source": [
    "class SingleCNN:\n",
    "    def __init__(self, num_filters, num_units):\n",
    "        with tf.Graph().as_default():\n",
    "            self.prepare_model(num_filters, num_units)\n",
    "            self.prepare_session()\n",
    "\n",
    "    def prepare_model(self, num_filters, num_units):\n",
    "        num_units1 = 14*14*num_filters\n",
    "        num_units2 = num_units\n",
    "        \n",
    "        with tf.name_scope('input'):\n",
    "            x = tf.placeholder(tf.float32, [None, 784], name='input')\n",
    "            x_image = tf.reshape(x, [-1,28,28,1])\n",
    "\n",
    "        with tf.name_scope('convolution'):\n",
    "            W_conv = tf.Variable(\n",
    "                tf.truncated_normal([5,5,1,num_filters], stddev=0.1),\n",
    "                name='conv-filter')\n",
    "            h_conv = tf.nn.conv2d(\n",
    "                x_image, W_conv, strides=[1,1,1,1], padding='SAME',\n",
    "                name='filter-output')\n",
    "\n",
    "        with tf.name_scope('pooling'):            \n",
    "            h_pool =tf.nn.max_pool(h_conv, ksize=[1,2,2,1],\n",
    "                                   strides=[1,2,2,1], padding='SAME',\n",
    "                                   name='max-pool')\n",
    "            h_pool_flat = tf.reshape(h_pool, [-1, 14*14*num_filters],\n",
    "                                     name='pool-output')\n",
    "\n",
    "        with tf.name_scope('fully-connected'):\n",
    "            w2 = tf.Variable(tf.truncated_normal([num_units1, num_units2]))\n",
    "            b2 = tf.Variable(tf.zeros([num_units2]))\n",
    "            hidden2 = tf.nn.relu(tf.matmul(h_pool_flat, w2) + b2,\n",
    "                                 name='fc-output')\n",
    "\n",
    "        with tf.name_scope('softmax'):\n",
    "            w0 = tf.Variable(tf.zeros([num_units2, 10]))\n",
    "            b0 = tf.Variable(tf.zeros([10]))\n",
    "            p = tf.nn.softmax(tf.matmul(hidden2, w0) + b0,\n",
    "                              name='softmax-output')\n",
    "            \n",
    "        with tf.name_scope('optimizer'):\n",
    "            t = tf.placeholder(tf.float32, [None, 10], name='labels')\n",
    "            loss = -tf.reduce_sum(t * tf.log(p), name='loss')\n",
    "            train_step = tf.train.AdamOptimizer(0.0005).minimize(loss)\n",
    "            \n",
    "        with tf.name_scope('evaluator'):\n",
    "            correct_prediction = tf.equal(tf.argmax(p, 1), tf.argmax(t, 1))\n",
    "            accuracy = tf.reduce_mean(tf.cast(correct_prediction,\n",
    "                                              tf.float32), name='accuracy')\n",
    "            \n",
    "        tf.summary.scalar(\"loss\", loss)\n",
    "        tf.summary.scalar(\"accuracy\", accuracy)\n",
    "        tf.summary.histogram(\"convolution_filters\", W_conv)\n",
    "        \n",
    "        self.x, self.t, self.p = x, t, p\n",
    "        self.train_step = train_step\n",
    "        self.loss = loss\n",
    "        self.accuracy = accuracy\n",
    "        \n",
    "    def prepare_session(self):\n",
    "        sess = tf.InteractiveSession()\n",
    "        sess.run(tf.initialize_all_variables())\n",
    "        summary =  tf.summary.merge_all()\n",
    "        writer = tf.summary.FileWriter(\"tmp/mnist_df_logs\", sess.graph)\n",
    "        \n",
    "        self.sess = sess\n",
    "        self.summary = summary\n",
    "        self.writer = writer"
   ]
  },
  {
   "cell_type": "markdown",
   "metadata": {},
   "source": [
    "**[MDT-04]** 텐서보드용 데이터 출력 디렉토리를 삭제해서 초기화해둔다."
   ]
  },
  {
   "cell_type": "code",
   "execution_count": 4,
   "metadata": {},
   "outputs": [
    {
     "name": "stderr",
     "output_type": "stream",
     "text": [
      "'rm'은(는) 내부 또는 외부 명령, 실행할 수 있는 프로그램, 또는\n",
      "배치 파일이 아닙니다.\n"
     ]
    }
   ],
   "source": [
    "!rm -rf /tmp/mnist_df_logs"
   ]
  },
  {
   "cell_type": "markdown",
   "metadata": {},
   "source": [
    "**[MDT-05]** 파라미터 최적화를 4000회 반복한다. 테스트 세트에 대해 약 98%의 정답률을 얻을 수 있다."
   ]
  },
  {
   "cell_type": "code",
   "execution_count": 13,
   "metadata": {},
   "outputs": [
    {
     "name": "stderr",
     "output_type": "stream",
     "text": [
      "c:\\workspace\\mytasks_ven\\lib\\site-packages\\tensorflow_core\\python\\client\\session.py:1750: UserWarning: An interactive session is already active. This can cause out-of-memory errors in some cases. You must explicitly call `InteractiveSession.close()` to release resources held by the other session(s).\n",
      "  warnings.warn('An interactive session is already active. This can '\n"
     ]
    },
    {
     "name": "stdout",
     "output_type": "stream",
     "text": [
      "Step: 50, Loss: 2934.805176, Accuracy: 0.912100\n",
      "Step: 100, Loss: 2257.434082, Accuracy: 0.935400\n",
      "Step: 150, Loss: 1858.536743, Accuracy: 0.950700\n",
      "Step: 200, Loss: 1867.811035, Accuracy: 0.945500\n",
      "Step: 250, Loss: 1498.115723, Accuracy: 0.958400\n",
      "Step: 300, Loss: 1352.285889, Accuracy: 0.960300\n",
      "Step: 350, Loss: 1263.737061, Accuracy: 0.962200\n",
      "Step: 400, Loss: 1152.345215, Accuracy: 0.965000\n",
      "Step: 450, Loss: 1200.433594, Accuracy: 0.963000\n",
      "Step: 500, Loss: 1022.340454, Accuracy: 0.969100\n",
      "Step: 550, Loss: 1130.758057, Accuracy: 0.967200\n",
      "Step: 600, Loss: 965.390808, Accuracy: 0.972100\n",
      "Step: 650, Loss: 873.780518, Accuracy: 0.973800\n",
      "Step: 700, Loss: 951.643799, Accuracy: 0.972100\n",
      "Step: 750, Loss: 905.574524, Accuracy: 0.973300\n",
      "Step: 800, Loss: 922.026062, Accuracy: 0.971800\n",
      "Step: 850, Loss: 791.417358, Accuracy: 0.976100\n",
      "Step: 900, Loss: 841.286682, Accuracy: 0.973600\n",
      "Step: 950, Loss: 802.439880, Accuracy: 0.975900\n",
      "Step: 1000, Loss: 791.272766, Accuracy: 0.976300\n",
      "Step: 1050, Loss: 874.285400, Accuracy: 0.973600\n",
      "Step: 1100, Loss: 893.111816, Accuracy: 0.973400\n",
      "Step: 1150, Loss: 853.903259, Accuracy: 0.975600\n",
      "Step: 1200, Loss: 769.228394, Accuracy: 0.978200\n",
      "Step: 1250, Loss: 719.418457, Accuracy: 0.977800\n",
      "Step: 1300, Loss: 916.024048, Accuracy: 0.973600\n",
      "Step: 1350, Loss: 864.467041, Accuracy: 0.972800\n",
      "Step: 1400, Loss: 719.899414, Accuracy: 0.978300\n",
      "Step: 1450, Loss: 764.121460, Accuracy: 0.977600\n",
      "Step: 1500, Loss: 761.382812, Accuracy: 0.977400\n",
      "Step: 1550, Loss: 720.926086, Accuracy: 0.978600\n",
      "Step: 1600, Loss: 734.536865, Accuracy: 0.978100\n",
      "Step: 1650, Loss: 745.180908, Accuracy: 0.977800\n",
      "Step: 1700, Loss: 640.786011, Accuracy: 0.981600\n",
      "Step: 1750, Loss: 664.044006, Accuracy: 0.981500\n",
      "Step: 1800, Loss: 673.210693, Accuracy: 0.979300\n",
      "Step: 1850, Loss: 656.162720, Accuracy: 0.981000\n",
      "Step: 1900, Loss: 637.516785, Accuracy: 0.981200\n",
      "Step: 1950, Loss: 570.683594, Accuracy: 0.983400\n",
      "Step: 2000, Loss: 630.736023, Accuracy: 0.980600\n",
      "Step: 2050, Loss: 685.068970, Accuracy: 0.980600\n",
      "Step: 2100, Loss: 728.169006, Accuracy: 0.978400\n",
      "Step: 2150, Loss: 788.006348, Accuracy: 0.976100\n",
      "Step: 2200, Loss: 599.946228, Accuracy: 0.983100\n",
      "Step: 2250, Loss: 571.745728, Accuracy: 0.983500\n",
      "Step: 2300, Loss: 639.952209, Accuracy: 0.981300\n",
      "Step: 2350, Loss: 621.146362, Accuracy: 0.982700\n",
      "Step: 2400, Loss: 588.125000, Accuracy: 0.982200\n",
      "Step: 2450, Loss: 630.179016, Accuracy: 0.981500\n",
      "Step: 2500, Loss: 660.700500, Accuracy: 0.980700\n",
      "Step: 2550, Loss: 589.426453, Accuracy: 0.982300\n",
      "Step: 2600, Loss: 586.162964, Accuracy: 0.982700\n",
      "Step: 2650, Loss: 608.773560, Accuracy: 0.981400\n",
      "Step: 2700, Loss: 674.595154, Accuracy: 0.980500\n",
      "Step: 2750, Loss: 731.819397, Accuracy: 0.978500\n",
      "Step: 2800, Loss: 646.964661, Accuracy: 0.981500\n",
      "Step: 2850, Loss: 611.677612, Accuracy: 0.981800\n",
      "Step: 2900, Loss: 616.751160, Accuracy: 0.982900\n",
      "Step: 2950, Loss: 676.538452, Accuracy: 0.980500\n",
      "Step: 3000, Loss: 593.944763, Accuracy: 0.983100\n",
      "Step: 3050, Loss: 684.841431, Accuracy: 0.980700\n",
      "Step: 3100, Loss: 665.382812, Accuracy: 0.980800\n",
      "Step: 3150, Loss: 706.317871, Accuracy: 0.981200\n",
      "Step: 3200, Loss: 583.181519, Accuracy: 0.983500\n",
      "Step: 3250, Loss: 651.626343, Accuracy: 0.982100\n",
      "Step: 3300, Loss: 752.508423, Accuracy: 0.978800\n",
      "Step: 3350, Loss: 710.943848, Accuracy: 0.981500\n",
      "Step: 3400, Loss: 633.506958, Accuracy: 0.983700\n",
      "Step: 3450, Loss: 574.079102, Accuracy: 0.984300\n",
      "Step: 3500, Loss: 564.691406, Accuracy: 0.984000\n",
      "Step: 3550, Loss: 650.416992, Accuracy: 0.981800\n",
      "Step: 3600, Loss: 682.565063, Accuracy: 0.981600\n",
      "Step: 3650, Loss: 698.169373, Accuracy: 0.982200\n",
      "Step: 3700, Loss: 694.311035, Accuracy: 0.982600\n",
      "Step: 3750, Loss: 676.924011, Accuracy: 0.981000\n",
      "Step: 3800, Loss: 727.861328, Accuracy: 0.979900\n",
      "Step: 3850, Loss: 715.205933, Accuracy: 0.982300\n",
      "Step: 3900, Loss: 650.504761, Accuracy: 0.983400\n",
      "Step: 3950, Loss: 627.118469, Accuracy: 0.983900\n",
      "Step: 4000, Loss: 602.452637, Accuracy: 0.982600\n"
     ]
    }
   ],
   "source": [
    "cnn = SingleCNN(16, 1024)\n",
    "\n",
    "i = 0\n",
    "for _ in range(4000):\n",
    "    i += 1\n",
    "    batch_xs, batch_ts = mnist.train.next_batch(100)\n",
    "    cnn.sess.run(cnn.train_step, feed_dict={cnn.x:batch_xs, cnn.t:batch_ts})\n",
    "    if i % 50 == 0:\n",
    "        summary, loss_val, acc_val = cnn.sess.run(\n",
    "            [cnn.summary, cnn.loss, cnn.accuracy],\n",
    "            feed_dict={cnn.x:mnist.test.images, cnn.t:mnist.test.labels})\n",
    "        print ('Step: %d, Loss: %f, Accuracy: %f'\n",
    "               % (i, loss_val, acc_val))\n",
    "        cnn.writer.add_summary(summary, i)"
   ]
  },
  {
   "cell_type": "markdown",
   "metadata": {},
   "source": [
    "tensorboard --host=127.0.0.1 --logdir=C:\\workspace\\myproject\\mytasks\\TensorflowDeeplearning-master\\Chapter04\\tmp\\mnist_df_logs"
   ]
  }
 ],
 "metadata": {
  "kernelspec": {
   "display_name": "Python 3",
   "language": "python",
   "name": "python3"
  },
  "language_info": {
   "codemirror_mode": {
    "name": "ipython",
    "version": 3
   },
   "file_extension": ".py",
   "mimetype": "text/x-python",
   "name": "python",
   "nbconvert_exporter": "python",
   "pygments_lexer": "ipython3",
   "version": "3.6.8"
  }
 },
 "nbformat": 4,
 "nbformat_minor": 1
}
