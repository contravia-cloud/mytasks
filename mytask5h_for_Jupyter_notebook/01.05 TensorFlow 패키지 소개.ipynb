{
 "cells": [
  {
   "cell_type": "markdown",
   "metadata": {
    "school_cell_uuid": "c37e6568f63b480886e8e1a550191c70"
   },
   "source": [
    "# TensorFlow 패키지 소개"
   ]
  },
  {
   "cell_type": "markdown",
   "metadata": {
    "school_cell_uuid": "e556f440fe294f9bbb52d5949401d2de"
   },
   "source": [
    "TensorFlow 패키지는 Theano 패키지와 마찬가지로 선형 대수 심볼 컴파일러(Symbolic Linear Algebra Compiler)이다. Theano에 비해 분산처리(distributed computing) 기능 등이 강화되어 있다. 여기에서는 버전 1.13을 사용한다."
   ]
  },
  {
   "cell_type": "code",
   "execution_count": 1,
   "metadata": {
    "school_cell_uuid": "d2d22eaf7cec4820aba0729e3269c45b"
   },
   "outputs": [
    {
     "data": {
      "text/plain": [
       "'1.15.0'"
      ]
     },
     "execution_count": 1,
     "metadata": {},
     "output_type": "execute_result"
    }
   ],
   "source": [
    "import tensorflow as tf\n",
    "tf.logging.set_verbosity(tf.logging.ERROR)  # warning 출력 방지\n",
    "tf.__version__"
   ]
  },
  {
   "cell_type": "markdown",
   "metadata": {
    "school_cell_uuid": "8078d0c97c1445378b13dd0238e93436"
   },
   "source": [
    "## TensorFlow 기본 사용법"
   ]
  },
  {
   "cell_type": "markdown",
   "metadata": {
    "school_cell_uuid": "8db959da8fe042b5b0ce4f3fc48fb8c4"
   },
   "source": [
    "Theano와 유사하게 TensorFlow도 다음과 같은 과정을 거쳐 사용한다.\n",
    "\n",
    "1. 텐서 정의\n",
    "2. 텐서 연산 정의\n",
    "3. 세션 정의\n",
    "4. 세션 사용\n",
    "\n",
    "세션(Session)은 Theano의 함수와 유사한 역할을 하며 실제 심볼 변수의 관계를 분석하고 값을 계산해준다. "
   ]
  },
  {
   "cell_type": "markdown",
   "metadata": {
    "school_cell_uuid": "f0f254c83cc0400388bca0bc1895a13a"
   },
   "source": [
    "## 그래프와 세션"
   ]
  },
  {
   "cell_type": "markdown",
   "metadata": {
    "school_cell_uuid": "e3c797962ceb4363a918b21bd8aa7bc3"
   },
   "source": [
    "TensorFlow은 모든 연산을 자체적으로 CPU에서 하는게 아니라 외부(다른 컴퓨터)에 분산되어있는(distributed) GPU에서 처리한다고 가정한다. 따라서 변수의 값을 할당하는 아주 간단한 연산부터 복잡한 선형대수연산까지 프로그램이 돌아가는 컴퓨터 자체 내에서 이루어지는 것은 없다. \n",
    "\n",
    "TensorFlow에서 텐서(Tensor) 계산 과정은 모두 **그래프(Graph)**라고 부르는 객체 내에 저장된다. 그래프를 계산하려면 외부 컴퓨터에 이 그래프 정보를 전달하고 그 결과값을 받아야 한다. 그 통신과정을 담당하는 것이 **세션(Session)**이라고 부르는 객체이다. \n",
    "\n",
    "따라서 모든 텐서 계산은 해당하는 텐서를 포함하는 그래프를 세션 객체에 전달하여 원격 실행한 후에야 값을 볼 수 있다. 변수에 상수를 할당하는 아주 간단한 연산조차도 마찬가지이다. \n",
    "일관성을 위해 이러한 과정은 GPU를 사용하지 않거나 분산처리를 하지 않더라도 동일한 방식으로 처리한다. "
   ]
  },
  {
   "cell_type": "markdown",
   "metadata": {
    "school_cell_uuid": "de79169e8a4d40c0ae34f5b1bf7bd9be"
   },
   "source": [
    "## 그래프"
   ]
  },
  {
   "cell_type": "markdown",
   "metadata": {
    "school_cell_uuid": "cbd1fd944c6e4310b4a02be7b073c732"
   },
   "source": [
    "그래프는 노드(node)와 간선(edge)으로 이루어진다. 텐서플로우의 경우 뒤에서 설명할 상수형 텐서, 변수형 텐서, 연산(operation)등은 노드가 되고 이 노드로부터 나오는 데이터인 텐서(tensor) 자료형은 간선이 된다.\n",
    "\n",
    "* 노드(node): 상수형 텐서, 변수형 텐서, 연산\n",
    "* 간선(edge): 노드로부터 출력되는 텐서\n",
    "\n",
    "따라서 텐서 자료형을 만들거나 연산자를 연결하면 모두 그래프에 들어가야 하는데 만약 그래프를 명시적으로 지정하지 않으면 기본 그래프(default graph)에 할당된다. `tf.get_default_graph()` 함수를 사용하면 현재의 기본 그래프에 대한 정보를 얻을 수 있다. "
   ]
  },
  {
   "cell_type": "code",
   "execution_count": 2,
   "metadata": {
    "school_cell_uuid": "dcfe3eae77394086a7093fd15c3848fe"
   },
   "outputs": [
    {
     "name": "stdout",
     "output_type": "stream",
     "text": [
      "<tensorflow.python.framework.ops.Graph object at 0x0000018E94DA1E10>\n"
     ]
    }
   ],
   "source": [
    "print(tf.get_default_graph())"
   ]
  },
  {
   "cell_type": "markdown",
   "metadata": {
    "school_cell_uuid": "329f80c351bf4601a62909f8aeb41691"
   },
   "source": [
    "`tf.Graph` 클래스로 명시적으로 그래프를 생성할 수도 있다. 사용자가 생성한 그래프를 사용하려면 `as_default` 메서드로 `with` 블럭을 만들어 사용한다."
   ]
  },
  {
   "cell_type": "code",
   "execution_count": 3,
   "metadata": {
    "school_cell_uuid": "d853f73d7a2442f08b85a33453afe65a"
   },
   "outputs": [],
   "source": [
    "my_graph = tf.Graph()\n",
    "\n",
    "with my_graph.as_default():\n",
    "    my_x = tf.constant(3)\n",
    "    my_y = my_x ** 2"
   ]
  },
  {
   "cell_type": "markdown",
   "metadata": {
    "school_cell_uuid": "dc2fafc4f9a74b91a8e113123cc7f8f4"
   },
   "source": [
    "## 세션"
   ]
  },
  {
   "cell_type": "markdown",
   "metadata": {
    "school_cell_uuid": "f577dfc4bcfa43068f037daf044421f7"
   },
   "source": [
    "TensorFlow의 세션은 Theano의 함수(function)와 비슷한 역할을 하며 실제로 계산 그래프를 생성하고 값을 계산하기 위한 환경을 제공한다. Theano의 함수와 달리 세션 생성과 실행 시작, 종료를 다음과 같은 방법으로 명시해야 한다. \n",
    "\n",
    "* 세션 생성: `Session` 객체 생성. 분산 환경에서는 계산 노드와의 연결을 만든다.\n",
    "* 세션 사용: `run` 메서드에 그래프를 입력하면 출력 값을 계산하여 반환한다. 분산 환경에서는 계산 노드로 그래프를 보내 계산을 수행한다.\n",
    "* 세션 종료: `close` 메서드. with 문을 사용하면 명시적으로 호출하지 않아도 된다.\n",
    "\n",
    "다음 코드는 두 개의 상수형 텐서를 생성하고 세션을 통해 실행하는 것이다. 텐서를 생성하는 방법은 바로 다음에 학습하므로 여기서는 세션을 작동시키는 방법에 대해서 알고 넘어가면 된다. "
   ]
  },
  {
   "cell_type": "code",
   "execution_count": 4,
   "metadata": {
    "school_cell_uuid": "258c4aff475d405581db3dbab08dd78d"
   },
   "outputs": [
    {
     "name": "stdout",
     "output_type": "stream",
     "text": [
      "3\n",
      "9\n"
     ]
    }
   ],
   "source": [
    "x = tf.constant(3)\n",
    "y = x**2\n",
    "\n",
    "sess = tf.Session()\n",
    "print(sess.run(x))\n",
    "print(sess.run(y))\n",
    "sess.close()"
   ]
  },
  {
   "cell_type": "markdown",
   "metadata": {
    "school_cell_uuid": "3e36116a85c64e8281f846eefeb7ff25"
   },
   "source": [
    "TensorFlow를 이용한 예제 코드를 보면 대부분 다음처럼 `with`문을 이용해 세션을 구현한다. `with` 구문을 사용하면 with 블럭을 나갈 때 자동으로 `close` 메서드가 호출된다."
   ]
  },
  {
   "cell_type": "code",
   "execution_count": 5,
   "metadata": {
    "school_cell_uuid": "45a618844b6443d1b5dca336ac584c6e"
   },
   "outputs": [
    {
     "name": "stdout",
     "output_type": "stream",
     "text": [
      "[3, 9]\n"
     ]
    }
   ],
   "source": [
    "with tf.Session() as sess:\n",
    "    out = sess.run([x, y])\n",
    "    print(out)"
   ]
  },
  {
   "cell_type": "markdown",
   "metadata": {
    "school_cell_uuid": "a3ec05900a8a46299896b50b04c95f83"
   },
   "source": [
    "만약 기본 그래프를 사용하지 않고 사용자가 직접 그래프를 만들었을 경우에는 세션 생성시 해당 그래프를 인수로 주어야 한다. 하나의 세션은 하나의 그래프만 받을 수 있다."
   ]
  },
  {
   "cell_type": "code",
   "execution_count": 6,
   "metadata": {
    "school_cell_uuid": "2937caadb43745e39a9db83ffda36574"
   },
   "outputs": [
    {
     "name": "stdout",
     "output_type": "stream",
     "text": [
      "[3, 9]\n"
     ]
    }
   ],
   "source": [
    "with tf.Session(graph=my_graph) as sess:\n",
    "    out = sess.run([my_x, my_y])\n",
    "    print(out)"
   ]
  },
  {
   "cell_type": "markdown",
   "metadata": {
    "school_cell_uuid": "0d07c768206740d38f44da8ed4a6a809"
   },
   "source": [
    "## 인터랙티브 세션과 `eval()` 메서드"
   ]
  },
  {
   "cell_type": "markdown",
   "metadata": {
    "school_cell_uuid": "d61769b1c9214ec49162740006e5071c"
   },
   "source": [
    "앞서 말한바와 같이 Tensorflow에서는 텐서의 값을 살펴보는 간단한 작업조차도 세션을 통해야지만 가능하다. 이러한 불편을 해소하기 위해 파이썬 콘솔이나 주피터노트북을 사용하는 경우에는 **인터랙티브 세션(Interactive Session)**이라는 것을 제공한다. 인터랙티브 세션을 생성한 후에는 텐서의 `eval()` 메서드를 호출하기만 하면 명시적으로 세션을 지정하지 않더라도 자동으로 세션이 호출되어 텐서의 값이 출력된다. "
   ]
  },
  {
   "cell_type": "code",
   "execution_count": 7,
   "metadata": {
    "school_cell_uuid": "002d458f46144bb484151eb2fd1bb435"
   },
   "outputs": [
    {
     "data": {
      "text/plain": [
       "(3, 9)"
      ]
     },
     "execution_count": 7,
     "metadata": {},
     "output_type": "execute_result"
    }
   ],
   "source": [
    "interactive_sess = tf.InteractiveSession()\n",
    "\n",
    "x.eval(), y.eval()"
   ]
  },
  {
   "cell_type": "markdown",
   "metadata": {
    "school_cell_uuid": "d59a866d5e5c43b5830c8f0ee0de1765"
   },
   "source": [
    "세션을 생성할 때, `as_default()` 메서드를 쓰면 `with문` 안에서는 인터랙티브 세션처럼 사용할 수도 있다. "
   ]
  },
  {
   "cell_type": "code",
   "execution_count": 8,
   "metadata": {
    "school_cell_uuid": "5115521e66ae4938a4847da147634a60"
   },
   "outputs": [
    {
     "name": "stdout",
     "output_type": "stream",
     "text": [
      "[3, 9]\n"
     ]
    }
   ],
   "source": [
    "with tf.Session().as_default():\n",
    "    print([x.eval(), y.eval()])"
   ]
  },
  {
   "cell_type": "markdown",
   "metadata": {
    "school_cell_uuid": "81ad8ba342654ef4960afaf2a8678d1e"
   },
   "source": [
    "## 텐서 자료형"
   ]
  },
  {
   "cell_type": "markdown",
   "metadata": {
    "school_cell_uuid": "e2af1f2d71284bc7a95577ee698ee023"
   },
   "source": [
    "`Tensor` 클래스로 구현된 텐서는 NumPy의 다차원배열 `ndarray` 클래스와 마찬가지로 다차원 배열 정보를 다루기 위한 자료형이다. NumPy `ndarray`와 다른점은 `ndarray`는 직접 데이터를 저장하기 위한 자료형이지만 `Tensor` 클래스는 TensorFlow의 계산 그래프 안에서 다차원 데이터를 표현하는 객체라는 점이다. "
   ]
  },
  {
   "cell_type": "markdown",
   "metadata": {
    "school_cell_uuid": "9b723faffe4e42f1b96051c3d4dc9dba"
   },
   "source": [
    "## 텐서 자료형의 종류"
   ]
  },
  {
   "cell_type": "markdown",
   "metadata": {
    "school_cell_uuid": "36a62cf504284f8baaed9b28b8ed0091"
   },
   "source": [
    "TensorFlow에서 데이터의 근원(source)가 되는 텐서 자료형은 3가지이다.\n",
    "\n",
    "* 상수형(Constant): 미리 주어진 값으로 고정된 텐서.\n",
    "* 변수형(Variable): 세션 내에서 값이 바뀔 수 있는 텐서.\n",
    "* 플레이스홀더(Placeholder): 고정된 값을 가지지만 값이 미리 주어지지 않고 나중에 넣을 수 있다."
   ]
  },
  {
   "cell_type": "markdown",
   "metadata": {
    "school_cell_uuid": "2a1a0b564e184e2db07d4d5507f4d4f4"
   },
   "source": [
    "## 상수형 텐서"
   ]
  },
  {
   "cell_type": "markdown",
   "metadata": {
    "school_cell_uuid": "c092ad3f4d0648d289defa2f523a1308"
   },
   "source": [
    "우선 상수형 텐서 객체를 생성하기 위한 메서드를 알아보자. 가장 간단하게 기존의 숫자나 배열을 텐서로 만드는 방법은 해당 데이터를 `tf.constant()`를 이용해 변환하는 것이다."
   ]
  },
  {
   "cell_type": "code",
   "execution_count": 9,
   "metadata": {
    "school_cell_uuid": "f681b8ab1b5c402cb7f4004968f51bb4"
   },
   "outputs": [
    {
     "name": "stdout",
     "output_type": "stream",
     "text": [
      "[1, 2, 3, 4, 5, 6, 7] <class 'list'>\n"
     ]
    }
   ],
   "source": [
    "c = [1, 2, 3, 4, 5, 6, 7]\n",
    "print(c, type(c))"
   ]
  },
  {
   "cell_type": "code",
   "execution_count": 10,
   "metadata": {
    "school_cell_uuid": "b848bb5c98894ce38ecad09f22f0b886"
   },
   "outputs": [
    {
     "name": "stdout",
     "output_type": "stream",
     "text": [
      "Tensor(\"Const_1:0\", shape=(7,), dtype=int32) <class 'tensorflow.python.framework.ops.Tensor'>\n"
     ]
    }
   ],
   "source": [
    "c_tensor = tf.constant(c)\n",
    "print(c_tensor, type(c_tensor))"
   ]
  },
  {
   "cell_type": "markdown",
   "metadata": {
    "school_cell_uuid": "5ee80e733c3f42a88580b29ccd639e0b"
   },
   "source": [
    "다음은 상수형 텐서를 생성하는 다양한 메서드들이다. 대부분의 메서드에서는 배열의 크기를 지정하는 `shape` 또는 데이터 자료형을 지정하는 `dtype` 인수를 받는데 `shape` 인수는 (row_number, column_number) 형태의 튜플이나 리스트로 전달해야 한다. `dtype` 인수는 지정하지 않을 경우 `tf.float32` 자료형 즉, 32비트 부동소수점 자료형을 사용한다."
   ]
  },
  {
   "cell_type": "markdown",
   "metadata": {
    "school_cell_uuid": "25082b667096440d9883fd5a132f1f89"
   },
   "source": [
    "* `tf.zeros(shape)` \n",
    "* `tf.ones(shape)` \n",
    "* `tf.fill(shape, value)`\n",
    "* `tf.zeros_like(tensor)`\n",
    "* `tf.ones_like(tensor)`"
   ]
  },
  {
   "cell_type": "code",
   "execution_count": 11,
   "metadata": {
    "school_cell_uuid": "e40f735320624a0299192d32bbb446df"
   },
   "outputs": [
    {
     "data": {
      "text/plain": [
       "array([[0., 0., 0.],\n",
       "       [0., 0., 0.]], dtype=float32)"
      ]
     },
     "execution_count": 11,
     "metadata": {},
     "output_type": "execute_result"
    }
   ],
   "source": [
    "zero_tensor = tf.zeros((2, 3))\n",
    "zero_tensor.eval()"
   ]
  },
  {
   "cell_type": "code",
   "execution_count": 12,
   "metadata": {
    "school_cell_uuid": "85007fcd369a4210904553ff470fa2ba"
   },
   "outputs": [
    {
     "data": {
      "text/plain": [
       "array([[1., 1., 1.],\n",
       "       [1., 1., 1.]], dtype=float32)"
      ]
     },
     "execution_count": 12,
     "metadata": {},
     "output_type": "execute_result"
    }
   ],
   "source": [
    "ones_tensor = tf.ones([2, 3])\n",
    "ones_tensor.eval()"
   ]
  },
  {
   "cell_type": "code",
   "execution_count": 13,
   "metadata": {
    "school_cell_uuid": "8ce367462c6641ed8010a7976bd1d8f2"
   },
   "outputs": [
    {
     "data": {
      "text/plain": [
       "array([[2, 2, 2],\n",
       "       [2, 2, 2]])"
      ]
     },
     "execution_count": 13,
     "metadata": {},
     "output_type": "execute_result"
    }
   ],
   "source": [
    "filled_tensor = tf.fill([2, 3], 2)\n",
    "filled_tensor.eval()"
   ]
  },
  {
   "cell_type": "code",
   "execution_count": 14,
   "metadata": {
    "school_cell_uuid": "77d52e3dba7345db83aa938a0bd1cc4a"
   },
   "outputs": [
    {
     "data": {
      "text/plain": [
       "array([[0, 0, 0],\n",
       "       [0, 0, 0]])"
      ]
     },
     "execution_count": 14,
     "metadata": {},
     "output_type": "execute_result"
    }
   ],
   "source": [
    "tf.zeros_like(filled_tensor).eval()"
   ]
  },
  {
   "cell_type": "code",
   "execution_count": 15,
   "metadata": {
    "school_cell_uuid": "cd37724be5c246e289f8cb42e70d7177"
   },
   "outputs": [
    {
     "data": {
      "text/plain": [
       "array([[1, 1, 1],\n",
       "       [1, 1, 1]])"
      ]
     },
     "execution_count": 15,
     "metadata": {},
     "output_type": "execute_result"
    }
   ],
   "source": [
    "tf.ones_like(filled_tensor).eval()"
   ]
  },
  {
   "cell_type": "markdown",
   "metadata": {
    "school_cell_uuid": "9d18563cfc7543b8bb1152017523f503"
   },
   "source": [
    "열(sequence)로 구성된 상수형 텐서를 만들 때는 `range` 또는 `linspace` 등의 메서드를 사용할 수 있다. `linspace`를 사용할 때는 `start` 값이 부동소수점이 되도록 한다. "
   ]
  },
  {
   "cell_type": "markdown",
   "metadata": {
    "school_cell_uuid": "60a99a09821a49099e27d7ff14ef1746"
   },
   "source": [
    "* `tf.range(start, limit=None, delta=1)`\n",
    "* `tf.linspace(start, stop, num)`"
   ]
  },
  {
   "cell_type": "code",
   "execution_count": 16,
   "metadata": {
    "school_cell_uuid": "b5164c14ff4840198237d6573e4aeb51"
   },
   "outputs": [
    {
     "data": {
      "text/plain": [
       "array([0, 1, 2, 3, 4])"
      ]
     },
     "execution_count": 16,
     "metadata": {},
     "output_type": "execute_result"
    }
   ],
   "source": [
    "tf.range(5).eval()"
   ]
  },
  {
   "cell_type": "code",
   "execution_count": 17,
   "metadata": {
    "school_cell_uuid": "bec78c4746b74051bd6751405e4c15f3"
   },
   "outputs": [
    {
     "data": {
      "text/plain": [
       "array([0. , 0.5, 1. , 1.5, 2. , 2.5, 3. , 3.5, 4. , 4.5, 5. ],\n",
       "      dtype=float32)"
      ]
     },
     "execution_count": 17,
     "metadata": {},
     "output_type": "execute_result"
    }
   ],
   "source": [
    "tf.linspace(0.0, 5, 11).eval()"
   ]
  },
  {
   "cell_type": "markdown",
   "metadata": {
    "school_cell_uuid": "c239dcf947cc41b893e3937afdbdebb2"
   },
   "source": [
    "랜덤한 값을 가지는 상수형 텐서 자료형은 다음 메서드로 만든다."
   ]
  },
  {
   "cell_type": "markdown",
   "metadata": {
    "school_cell_uuid": "1013fa079fa245228a542448e08c362a"
   },
   "source": [
    "* `tf.random_uniform(shape, minval=0, maxval=None, seed=None)`\n",
    "* `tf.random_normal`\n",
    "* `tf.truncated_normal`\n",
    "* `tf.random_shuffle`\n",
    "* `tf.random_crop`"
   ]
  },
  {
   "cell_type": "code",
   "execution_count": 18,
   "metadata": {
    "school_cell_uuid": "fc8ca361c6014ae89ea1aeb96e8603d9"
   },
   "outputs": [
    {
     "data": {
      "text/plain": [
       "array([[0.10086262, 0.9701668 , 0.8487642 ],\n",
       "       [0.04828131, 0.04852307, 0.77747464]], dtype=float32)"
      ]
     },
     "execution_count": 18,
     "metadata": {},
     "output_type": "execute_result"
    }
   ],
   "source": [
    "tf.random_uniform((2, 3), seed=0).eval()"
   ]
  },
  {
   "cell_type": "markdown",
   "metadata": {
    "school_cell_uuid": "07ceb8425fe94e0d969a92ba8b182a83"
   },
   "source": [
    "NumPy ndarray 자료형을 변환하는 함수도 따로 구현되어 있다. "
   ]
  },
  {
   "cell_type": "markdown",
   "metadata": {
    "school_cell_uuid": "1478554915c24a528119e5ec98ccee53"
   },
   "source": [
    "* `convert_to_tensor`"
   ]
  },
  {
   "cell_type": "code",
   "execution_count": 19,
   "metadata": {
    "school_cell_uuid": "7102b901101d4b9aae8b5481041d4611"
   },
   "outputs": [
    {
     "data": {
      "text/plain": [
       "array([0, 1, 2, 3, 4, 5, 6, 7, 8, 9])"
      ]
     },
     "execution_count": 19,
     "metadata": {},
     "output_type": "execute_result"
    }
   ],
   "source": [
    "import numpy as np\n",
    "np_array = np.arange(10)\n",
    "tf.convert_to_tensor(np_array).eval()"
   ]
  },
  {
   "cell_type": "markdown",
   "metadata": {
    "school_cell_uuid": "0291ec32c5f34f01b6e202ca87fe6db9"
   },
   "source": [
    "## 플레이스홀더"
   ]
  },
  {
   "cell_type": "markdown",
   "metadata": {
    "school_cell_uuid": "94b8264045d0428cb91ececb49a2fa2b"
   },
   "source": [
    "`tf.placeholder` 명령으로 구현하는 플레이스홀더(Placeholder) 텐서 자료형은 상수형 텐서와 같은 역할을 하지만 크기만 설정하고 값은 미리 주지 않는다. 플레이스홀더의 값은 session을 사용한 그래프의 연산 중에 설정할 수 있다. 신경망 모형의 경우에는 대부분 배치(batch) 단위의 학습이 이루어지기 때문에 학습용 데이터는 플레이스 홀더에 넣어준다. 플레이스홀더는 데이터의 타입과 크기를 인수로 설정하여 생성하고, session을 실행할 때 `feed_dict` 인수로 플레이스홀더에 데이터를 지정한다. \n",
    "\n",
    "플레이스홀더에 들어가는 데이터 크기의 달라질 때는 `shape` 인수를 설정할 때 달라지는 차원의 값을 정수가 아닌 `None`으로 설정한다. 다음 코드에서 플레이스홀더 `x`의 열의 갯수는 10개이지만 행의 갯수는 미정인 경우이다."
   ]
  },
  {
   "cell_type": "code",
   "execution_count": 20,
   "metadata": {
    "school_cell_uuid": "d0d013f0eca644b1a7e9db91a20e6688"
   },
   "outputs": [
    {
     "name": "stdout",
     "output_type": "stream",
     "text": [
      "[[ 0  1  2  3  4  5  6  7  8  9]\n",
      " [10 11 12 13 14 15 16 17 18 19]\n",
      " [20 21 22 23 24 25 26 27 28 29]]\n"
     ]
    }
   ],
   "source": [
    "x = tf.placeholder(dtype=tf.int32, shape=(None, 10))  # 행의 갯수는 미정, 열의 갯수는 10개\n",
    "value = np.arange(30).reshape(3, 10)\n",
    "\n",
    "with tf.Session() as sess:\n",
    "    x_assigned = sess.run(x, feed_dict={x: value})\n",
    "    print(x_assigned)"
   ]
  },
  {
   "cell_type": "markdown",
   "metadata": {
    "school_cell_uuid": "472640990afa4227b111a035220f9177"
   },
   "source": [
    "## 변수형 텐서"
   ]
  },
  {
   "cell_type": "markdown",
   "metadata": {
    "school_cell_uuid": "0237728ac74247e0bfd60155695fdeed"
   },
   "source": [
    "`tf.Variable` 클래스로 구현하는 변수형 텐서는 세션내에서 값이 변할 수 있다. 변수형 텐서를 선언하려면 초기값으로 설정할 값을 입력해야한다."
   ]
  },
  {
   "cell_type": "code",
   "execution_count": 21,
   "metadata": {
    "school_cell_uuid": "f30cca58104c4e37b269dc4a43658c1b"
   },
   "outputs": [
    {
     "data": {
      "text/plain": [
       "<tf.Variable 'Variable:0' shape=(2, 3) dtype=float32_ref>"
      ]
     },
     "execution_count": 21,
     "metadata": {},
     "output_type": "execute_result"
    }
   ],
   "source": [
    "var = tf.Variable(tf.zeros((2, 3)))\n",
    "var"
   ]
  },
  {
   "cell_type": "markdown",
   "metadata": {
    "school_cell_uuid": "dc56bd636ab1410b8fc7052412e8b9e4"
   },
   "source": [
    "## 초기화 연산자"
   ]
  },
  {
   "cell_type": "markdown",
   "metadata": {
    "school_cell_uuid": "0436ceed5fa142f2b55c5b9df3158f1d"
   },
   "source": [
    "변수형 텐서를 생성할 때 입력한 초기값은 `initial_value`라는 속성에 저장되고 아직 해당 변수형 텐서의 값으로 할당되어 있지 않다.\n",
    "따라서 이 상태에서 바로 `eval`을 실행하면 에러가 발생한다.\n",
    "\n",
    "세션에 변수형 텐서가 들어간 다음에 변수형 텐서의 초기값을 변수형 텐서의 값으로 할당하는 추가적인 작업이 필요한데 이를 수행하는 것이 초기화 연산자이다. \n",
    "각 변수에는 `initializer`라는 이름의 초기화 메서드가 있어 이를 세션에서 실행시키면 초기값이 변수로 할당된다."
   ]
  },
  {
   "cell_type": "code",
   "execution_count": 22,
   "metadata": {
    "school_cell_uuid": "7d15b97430bb44b5b39dd421cac89002"
   },
   "outputs": [
    {
     "data": {
      "text/plain": [
       "<tf.Tensor 'zeros_1:0' shape=(2, 3) dtype=float32>"
      ]
     },
     "execution_count": 22,
     "metadata": {},
     "output_type": "execute_result"
    }
   ],
   "source": [
    "var.initial_value"
   ]
  },
  {
   "cell_type": "code",
   "execution_count": 23,
   "metadata": {
    "school_cell_uuid": "75cceb3825c746d0beda245e5be9e283"
   },
   "outputs": [
    {
     "data": {
      "text/plain": [
       "array([[0., 0., 0.],\n",
       "       [0., 0., 0.]], dtype=float32)"
      ]
     },
     "execution_count": 23,
     "metadata": {},
     "output_type": "execute_result"
    }
   ],
   "source": [
    "interactive_sess.run(var.initializer)\n",
    "var.eval()"
   ]
  },
  {
   "cell_type": "markdown",
   "metadata": {
    "school_cell_uuid": "7c88b36d447943dc9943b12c2f01f2fb"
   },
   "source": [
    "그래프 내의 모든 변수의 초기화 연산을 한꺼번에 수행하려면 `tf.global_variables_initializer()`함수를 사용한다. "
   ]
  },
  {
   "cell_type": "code",
   "execution_count": 24,
   "metadata": {
    "school_cell_uuid": "23fb8a778273444b9f76db19333a39b2"
   },
   "outputs": [
    {
     "name": "stdout",
     "output_type": "stream",
     "text": [
      "[[0. 0. 0.]\n",
      " [0. 0. 0.]]\n",
      "[[2. 2. 2.]\n",
      " [2. 2. 2.]]\n"
     ]
    }
   ],
   "source": [
    "global_init = tf.global_variables_initializer()\n",
    "interactive_sess.run(global_init)\n",
    "print(var.eval())\n",
    "var1 = var + 2\n",
    "print(var1.eval())"
   ]
  },
  {
   "cell_type": "markdown",
   "metadata": {
    "school_cell_uuid": "42ed7ca5e1c84067ba4ad90fc28102f2"
   },
   "source": [
    "모든 변수를 생성하기 전에 `tf.global_variable_initializer()` 함수를 실행하면면 나중에 생성된 변수에 대해서는 초기화 연산이 이루지지 않아 에러가 발생한다. "
   ]
  },
  {
   "cell_type": "markdown",
   "metadata": {
    "school_cell_uuid": "bdd76cf11e4144ddbaf39e743b6d5f9f"
   },
   "source": [
    "## name 속성과 이름 공간"
   ]
  },
  {
   "cell_type": "markdown",
   "metadata": {
    "school_cell_uuid": "4fe2d8f8c40344279f23e6a6e0626149"
   },
   "source": [
    "모든 텐서는 `op.name` 속성에 이름(name) 문자열을 가지고 있다. 텐서를 생성할 때 `name` 인수를 사용하면 각 텐서에 이름을 수동으로 할당할 수 있다."
   ]
  },
  {
   "cell_type": "code",
   "execution_count": 25,
   "metadata": {
    "school_cell_uuid": "ef99342162fb44c487bbc3619e9a5596"
   },
   "outputs": [
    {
     "name": "stdout",
     "output_type": "stream",
     "text": [
      "v1\n",
      "v2\n"
     ]
    }
   ],
   "source": [
    "v1 = tf.Variable(2, name=\"v1\")\n",
    "v2 = tf.add(v1, 3, name=\"v2\")\n",
    "print(v1.op.name)\n",
    "print(v2.op.name)"
   ]
  },
  {
   "cell_type": "markdown",
   "metadata": {
    "school_cell_uuid": "4d0040bfa9e046cdbb7133d5af972832"
   },
   "source": [
    "사용자가 name 속성을 주지 않으면 자동으로 생성한다."
   ]
  },
  {
   "cell_type": "code",
   "execution_count": 26,
   "metadata": {
    "school_cell_uuid": "0c98628b7e5640b48c52abc5407047e0"
   },
   "outputs": [
    {
     "name": "stdout",
     "output_type": "stream",
     "text": [
      "Const_3\n",
      "Variable_1\n"
     ]
    }
   ],
   "source": [
    "v3 = tf.constant(1)\n",
    "v4 = tf.Variable(1)\n",
    "print(v3.op.name)\n",
    "print(v4.op.name)"
   ]
  },
  {
   "cell_type": "markdown",
   "metadata": {
    "school_cell_uuid": "afa2f1d6779844709a45c4f220879230"
   },
   "source": [
    "노드이름은 중복되지 않아야 한다. 중복을 피하기 위해 이름 공간(name scope)를 사용할 수 있다. `tf.name_scope()` 문맥안에서 변수를 생성하면 이름 앞에 이름공간 문자열이 추가된다."
   ]
  },
  {
   "cell_type": "code",
   "execution_count": 27,
   "metadata": {
    "school_cell_uuid": "ccbf4ed650c34c9ab062aa558955e676"
   },
   "outputs": [
    {
     "name": "stdout",
     "output_type": "stream",
     "text": [
      "scope1/v5\n",
      "scope1/v6\n"
     ]
    }
   ],
   "source": [
    "with tf.name_scope(\"scope1\"):\n",
    "    v5 = tf.Variable(2, name=\"v5\")\n",
    "    v6 = tf.add(v5, 3, name=\"v6\")\n",
    "print(v5.op.name)\n",
    "print(v6.op.name)"
   ]
  },
  {
   "cell_type": "markdown",
   "metadata": {
    "school_cell_uuid": "952bc50967c44981b3fa9ad284c374bb"
   },
   "source": [
    "## 변수 공간과 변수의 재사용"
   ]
  },
  {
   "cell_type": "markdown",
   "metadata": {
    "school_cell_uuid": "52d9554d34c9418083d42b8948d64cf0"
   },
   "source": [
    "`tf.get_variable()` 함수를 사용하면 이미 생성된 변수를 불러와 재사용할 수 있다. 만약 해당 변수가 없으면 새로 생성한다. 인수는 다음과 같다. \n",
    "\n",
    "- `name` : 변수의 이름 (같은 이름을 가진 변수가 존재하면 그 변수를 불러올 수 있다.)\n",
    "- `shape` : 크기\n",
    "- `dtype` : 자료형\n",
    "- `initializer` : 초기화 함수\n",
    "\n",
    "\n",
    "`tf.get_variable()` 함수는 초기값 인수가 아닌 initializer 함수를 인수로 받는다. 다음은 많이 사용하는 initializer 함수이다. \n",
    "\n",
    "- `tf.constant_initializer(value)` : tf.Variable() 함수에 설정하는 초기값 처럼 특정 숫자로 설정\n",
    "- `tf.zeros_initializer()` : 0으로 초기화\n",
    "- `tf.random_uniform_initializer()` : 균등 분포에서 추출한 값으로 초기화\n",
    "- `tf.random_normal_initializer()` : 정규 분포에서 추출한 값으로 초기화\n"
   ]
  },
  {
   "cell_type": "markdown",
   "metadata": {
    "school_cell_uuid": "3612df528b7248328f803c087c76926f"
   },
   "source": [
    "예를 들어 다음처럼 `w`, `b`라는 변수를 사용하는 함수가 있다고 하자."
   ]
  },
  {
   "cell_type": "code",
   "execution_count": 28,
   "metadata": {
    "school_cell_uuid": "207749e4b86e4020ad6123f893eecbe5"
   },
   "outputs": [],
   "source": [
    "def func1(x):\n",
    "    w = tf.Variable(2, name=\"w\")\n",
    "    b = tf.Variable(3, name=\"b\")\n",
    "    return x * w + b"
   ]
  },
  {
   "cell_type": "markdown",
   "metadata": {
    "school_cell_uuid": "df3d3049a31f4679ab4c728eb0429132"
   },
   "source": [
    "이 함수를 실행하기 전에 지금까지 정의된 변수를 확인하자. 정의된 모든 변수의 목록은 `tf.global_variables()`명령으로 확인 할 수 있다. "
   ]
  },
  {
   "cell_type": "code",
   "execution_count": 29,
   "metadata": {
    "school_cell_uuid": "9c3093eba4724c6d9b6707ef99e54720"
   },
   "outputs": [
    {
     "data": {
      "text/plain": [
       "[<tf.Variable 'Variable:0' shape=(2, 3) dtype=float32_ref>,\n",
       " <tf.Variable 'v1:0' shape=() dtype=int32_ref>,\n",
       " <tf.Variable 'Variable_1:0' shape=() dtype=int32_ref>,\n",
       " <tf.Variable 'scope1/v5:0' shape=() dtype=int32_ref>]"
      ]
     },
     "execution_count": 29,
     "metadata": {},
     "output_type": "execute_result"
    }
   ],
   "source": [
    "tf.global_variables()"
   ]
  },
  {
   "cell_type": "markdown",
   "metadata": {
    "school_cell_uuid": "b235a712f1644afa99b34939db724d12"
   },
   "source": [
    "그리고 함수를 두번 사용한 후 변수의 갯수를 확인하자. 변수가 증가한 것을 볼 수 있다."
   ]
  },
  {
   "cell_type": "code",
   "execution_count": 30,
   "metadata": {
    "school_cell_uuid": "959fd04923bb4ce7b1dda5713e7d6939"
   },
   "outputs": [
    {
     "data": {
      "text/plain": [
       "[<tf.Variable 'Variable:0' shape=(2, 3) dtype=float32_ref>,\n",
       " <tf.Variable 'v1:0' shape=() dtype=int32_ref>,\n",
       " <tf.Variable 'Variable_1:0' shape=() dtype=int32_ref>,\n",
       " <tf.Variable 'scope1/v5:0' shape=() dtype=int32_ref>,\n",
       " <tf.Variable 'w:0' shape=() dtype=int32_ref>,\n",
       " <tf.Variable 'b:0' shape=() dtype=int32_ref>,\n",
       " <tf.Variable 'w_1:0' shape=() dtype=int32_ref>,\n",
       " <tf.Variable 'b_1:0' shape=() dtype=int32_ref>]"
      ]
     },
     "execution_count": 30,
     "metadata": {},
     "output_type": "execute_result"
    }
   ],
   "source": [
    "y1 = func1(tf.constant(1))\n",
    "y2 = func1(tf.constant(1))\n",
    "\n",
    "tf.global_variables()"
   ]
  },
  {
   "cell_type": "markdown",
   "metadata": {
    "school_cell_uuid": "d828b15ba1ed4562b4d3d1bb372591c5"
   },
   "source": [
    "계속 함수를 호출할 때마다 변수가 계속 증가한다."
   ]
  },
  {
   "cell_type": "code",
   "execution_count": 31,
   "metadata": {
    "school_cell_uuid": "df5cecafa4764b81a0e16374735d034c"
   },
   "outputs": [
    {
     "data": {
      "text/plain": [
       "[<tf.Variable 'Variable:0' shape=(2, 3) dtype=float32_ref>,\n",
       " <tf.Variable 'v1:0' shape=() dtype=int32_ref>,\n",
       " <tf.Variable 'Variable_1:0' shape=() dtype=int32_ref>,\n",
       " <tf.Variable 'scope1/v5:0' shape=() dtype=int32_ref>,\n",
       " <tf.Variable 'w:0' shape=() dtype=int32_ref>,\n",
       " <tf.Variable 'b:0' shape=() dtype=int32_ref>,\n",
       " <tf.Variable 'w_1:0' shape=() dtype=int32_ref>,\n",
       " <tf.Variable 'b_1:0' shape=() dtype=int32_ref>,\n",
       " <tf.Variable 'w_2:0' shape=() dtype=int32_ref>,\n",
       " <tf.Variable 'b_2:0' shape=() dtype=int32_ref>,\n",
       " <tf.Variable 'w_3:0' shape=() dtype=int32_ref>,\n",
       " <tf.Variable 'b_3:0' shape=() dtype=int32_ref>]"
      ]
     },
     "execution_count": 31,
     "metadata": {},
     "output_type": "execute_result"
    }
   ],
   "source": [
    "y3 = func1(tf.constant(1))\n",
    "y4 = func1(tf.constant(1))\n",
    "\n",
    "tf.global_variables()"
   ]
  },
  {
   "cell_type": "markdown",
   "metadata": {
    "school_cell_uuid": "326c3f638b7d450ba8303e5bc0eac8d9"
   },
   "source": [
    " 변수 `w`, `b`를 재사용하려면 `tf.get_variable()`을 이용해 다음과 같이 고친다."
   ]
  },
  {
   "cell_type": "code",
   "execution_count": 32,
   "metadata": {
    "school_cell_uuid": "e353d01e65be466990f8d82243b1aa5e"
   },
   "outputs": [],
   "source": [
    "def func2(x):\n",
    "    w = tf.get_variable(name=\"w\", shape=[1],\n",
    "                        dtype=tf.int32, initializer=tf.constant_initializer(2))\n",
    "    b = tf.get_variable(name=\"b\", shape=[1],\n",
    "                        dtype=tf.int32, initializer=tf.constant_initializer(3))\n",
    "    return x * w + b"
   ]
  },
  {
   "cell_type": "markdown",
   "metadata": {
    "school_cell_uuid": "9ad6c5aa439a4c8eb8a6165fc249274d"
   },
   "source": [
    "`tf.get_variable()`을 이용하여 변수를 재사용할 때는 `reuse`인수를  `True` 또는 `tf.AUTO_REUSE`로 설정해야 한다."
   ]
  },
  {
   "cell_type": "code",
   "execution_count": 33,
   "metadata": {
    "school_cell_uuid": "3937b921cd8e44e9a5da4c0592b657c8"
   },
   "outputs": [
    {
     "data": {
      "text/plain": [
       "[<tf.Variable 'Variable:0' shape=(2, 3) dtype=float32_ref>,\n",
       " <tf.Variable 'v1:0' shape=() dtype=int32_ref>,\n",
       " <tf.Variable 'Variable_1:0' shape=() dtype=int32_ref>,\n",
       " <tf.Variable 'scope1/v5:0' shape=() dtype=int32_ref>,\n",
       " <tf.Variable 'w:0' shape=() dtype=int32_ref>,\n",
       " <tf.Variable 'b:0' shape=() dtype=int32_ref>,\n",
       " <tf.Variable 'w_1:0' shape=() dtype=int32_ref>,\n",
       " <tf.Variable 'b_1:0' shape=() dtype=int32_ref>,\n",
       " <tf.Variable 'w_2:0' shape=() dtype=int32_ref>,\n",
       " <tf.Variable 'b_2:0' shape=() dtype=int32_ref>,\n",
       " <tf.Variable 'w_3:0' shape=() dtype=int32_ref>,\n",
       " <tf.Variable 'b_3:0' shape=() dtype=int32_ref>,\n",
       " <tf.Variable 'scope2/w:0' shape=(1,) dtype=int32_ref>,\n",
       " <tf.Variable 'scope2/b:0' shape=(1,) dtype=int32_ref>]"
      ]
     },
     "execution_count": 33,
     "metadata": {},
     "output_type": "execute_result"
    }
   ],
   "source": [
    "with tf.variable_scope(\"scope2\", reuse=tf.AUTO_REUSE):\n",
    "    result1 = func2(1)\n",
    "    result2 = func2(1)\n",
    "\n",
    "tf.global_variables()"
   ]
  },
  {
   "cell_type": "markdown",
   "metadata": {
    "school_cell_uuid": "b714bd895ff84ebda6f191679f826ba4"
   },
   "source": [
    "반복하여 사용해도 변수가 증가하지 않는 것을 확인할 수 있다."
   ]
  },
  {
   "cell_type": "code",
   "execution_count": 34,
   "metadata": {
    "school_cell_uuid": "9d744a40a94f43988cfbabd2b622cc7e"
   },
   "outputs": [
    {
     "data": {
      "text/plain": [
       "[<tf.Variable 'Variable:0' shape=(2, 3) dtype=float32_ref>,\n",
       " <tf.Variable 'v1:0' shape=() dtype=int32_ref>,\n",
       " <tf.Variable 'Variable_1:0' shape=() dtype=int32_ref>,\n",
       " <tf.Variable 'scope1/v5:0' shape=() dtype=int32_ref>,\n",
       " <tf.Variable 'w:0' shape=() dtype=int32_ref>,\n",
       " <tf.Variable 'b:0' shape=() dtype=int32_ref>,\n",
       " <tf.Variable 'w_1:0' shape=() dtype=int32_ref>,\n",
       " <tf.Variable 'b_1:0' shape=() dtype=int32_ref>,\n",
       " <tf.Variable 'w_2:0' shape=() dtype=int32_ref>,\n",
       " <tf.Variable 'b_2:0' shape=() dtype=int32_ref>,\n",
       " <tf.Variable 'w_3:0' shape=() dtype=int32_ref>,\n",
       " <tf.Variable 'b_3:0' shape=() dtype=int32_ref>,\n",
       " <tf.Variable 'scope2/w:0' shape=(1,) dtype=int32_ref>,\n",
       " <tf.Variable 'scope2/b:0' shape=(1,) dtype=int32_ref>]"
      ]
     },
     "execution_count": 34,
     "metadata": {},
     "output_type": "execute_result"
    }
   ],
   "source": [
    "with tf.variable_scope(\"scope2\", reuse=tf.AUTO_REUSE):\n",
    "    result1 = func2(1)\n",
    "    result2 = func2(1)\n",
    "\n",
    "tf.global_variables()"
   ]
  },
  {
   "cell_type": "markdown",
   "metadata": {
    "school_cell_uuid": "9c92ab48341b4d149820584e9ca6c3bb"
   },
   "source": [
    "## Tensor 연산"
   ]
  },
  {
   "cell_type": "markdown",
   "metadata": {
    "school_cell_uuid": "7a37434a6c2544219a91e89db8759b01"
   },
   "source": [
    "Tensor 자료형의 연산은 TensorFlow가 제공하는 연산자를 사용해야 한다. 이 연산자의 이름은 NumPy나 SciPy에서 제공하는 연산자와 다르므로 별도로 외워야 한다."
   ]
  },
  {
   "cell_type": "markdown",
   "metadata": {
    "school_cell_uuid": "b2337b2d8634422d9c6eddadfb556223"
   },
   "source": [
    "다음과 같은 기본 연산은 특수 메서드를 이용하여 연산자 오버로딩이 되어 있으므로 그냥 연산자 기호를 사용해도 된다.\n",
    "\n",
    "* `tf.add`: 덧셈\n",
    "* `tf.subtract`: 뺄셈\n",
    "* `tf.multiply`: 곱셈\n",
    "* `tf.divide`: 나눗셈\n",
    "* `tf.pow`: n-제곱\n",
    "* `tf.negative`: 음수 부호\n"
   ]
  },
  {
   "cell_type": "code",
   "execution_count": 35,
   "metadata": {
    "school_cell_uuid": "f98b37f08ba644e08e3a9e6b430e34e3"
   },
   "outputs": [
    {
     "data": {
      "text/plain": [
       "<tf.Tensor 'Add_5:0' shape=(6,) dtype=int32>"
      ]
     },
     "execution_count": 35,
     "metadata": {},
     "output_type": "execute_result"
    }
   ],
   "source": [
    "a = tf.range(6, dtype=tf.int32)      # [0, 1, 2, 3, 4, 5]\n",
    "b = 2 * tf.ones(6, dtype=tf.int32)   # [2, 2, 2, 2, 2, 2]\n",
    "\n",
    "tf.add(a, b)"
   ]
  },
  {
   "cell_type": "code",
   "execution_count": 36,
   "metadata": {
    "school_cell_uuid": "24af2ae44b3245e0ac9298c036ef3ee3"
   },
   "outputs": [
    {
     "data": {
      "text/plain": [
       "<tf.Tensor 'add_6:0' shape=(6,) dtype=int32>"
      ]
     },
     "execution_count": 36,
     "metadata": {},
     "output_type": "execute_result"
    }
   ],
   "source": [
    "a + b"
   ]
  },
  {
   "cell_type": "markdown",
   "metadata": {
    "school_cell_uuid": "fc1bb9c1609c416bbd186ab2f117cef2"
   },
   "source": [
    "연산자 오버로딩이 안된 연산은 사용할 때 주의한다.\n",
    "\n",
    "* `tf.abs`: 절대값\n",
    "* `tf.sign`: 부호\n",
    "* `tf.round`: 반올림\n",
    "* `tf.ceil`: 올림\n",
    "* `tf.floor`: 내림\n",
    "* `tf.square`: 제곱\n",
    "* `tf.sqrt`: 제곱근\n",
    "* `tf.maximum`: 두 텐서의 각 원소에서 최댓값만 반환.\n",
    "* `tf.minimum`: 두 텐서의 각 원소에서 최솟값만 반환.\n",
    "* `tf.cumsum`: 누적합\n",
    "* `tf.cumprod`: 누적곱\n"
   ]
  },
  {
   "cell_type": "code",
   "execution_count": 37,
   "metadata": {
    "school_cell_uuid": "7bd31a107c2e4296b1bffb3b44d0b625"
   },
   "outputs": [
    {
     "data": {
      "text/plain": [
       "array([2, 2, 2, 3, 4, 5])"
      ]
     },
     "execution_count": 37,
     "metadata": {},
     "output_type": "execute_result"
    }
   ],
   "source": [
    "tf.maximum(a, b).eval()"
   ]
  },
  {
   "cell_type": "markdown",
   "metadata": {
    "school_cell_uuid": "165b6a997b62450e9dccb1670cecf9c5"
   },
   "source": [
    "벡터나 행렬의 원소들을 연산하여 스칼라 값을 구하는 차원 축소 연산은 `tf.reduce_` 명령을 사용한다.\n",
    "\n",
    "* `tf.reduce_all`: 설정한 축으로 이동하면서 `and`논리 연산을 수행한다. \n",
    "* `tf.reduce_any`: 설정한 축으로 이동하면서 `or`논리 연산을 수행한다. \n",
    "* `tf.reduce_mean`: 설정한 축의 평균을 구한다. \n",
    "* `tf.reduce_max`: 설정한 축의 최댓값을 구한다. \n",
    "* `tf.reduce_min`: 설정한 축의 최솟값을 구한다. \n",
    "* `tf.reduce_prod`: 설정한 축의 요소를 모두 곱한 값을 구한다. \n",
    "* `tf.reduce_sum`: 설정한 축의 요소를 모두 더한 값을 구한다. \n",
    "* `tf.reduce_logsumexp`: 설정한 축의 벡터가 $N$차원의 벡터 $x$라고 할 때 \n",
    "$$ \\log \\left( \\displaystyle\\sum_{i=0}^N \\exp x_i\\right) $$\n"
   ]
  },
  {
   "cell_type": "code",
   "execution_count": 38,
   "metadata": {
    "school_cell_uuid": "c21da2a753ba4b37b2b52f9697f4af99"
   },
   "outputs": [
    {
     "data": {
      "text/plain": [
       "15"
      ]
     },
     "execution_count": 38,
     "metadata": {},
     "output_type": "execute_result"
    }
   ],
   "source": [
    "tf.reduce_sum(a).eval()"
   ]
  },
  {
   "cell_type": "markdown",
   "metadata": {
    "school_cell_uuid": "5b64f3c9940f4e51988c6165c9488440"
   },
   "source": [
    "또한 행렬과 관련된 연산에서도 NumPy와는 이름이 다르므로 주의한다.\n",
    "\n",
    "* `tf.matmul`: 내적\n",
    "* `tf.matrix_inverse`: 역행렬\n"
   ]
  },
  {
   "cell_type": "code",
   "execution_count": 39,
   "metadata": {
    "school_cell_uuid": "1379cd3315c84082a0dcc1c3e76a1be0"
   },
   "outputs": [
    {
     "data": {
      "text/plain": [
       "array([[2., 2.],\n",
       "       [1., 1.]], dtype=float32)"
      ]
     },
     "execution_count": 39,
     "metadata": {},
     "output_type": "execute_result"
    }
   ],
   "source": [
    "a = tf.constant([[2, 0], [0, 1]], dtype=tf.float32)\n",
    "b = tf.constant([[1, 1], [1, 1]], dtype=tf.float32)\n",
    "tf.matmul(a, b).eval()"
   ]
  },
  {
   "cell_type": "code",
   "execution_count": 40,
   "metadata": {
    "school_cell_uuid": "5a5a77f1076c402db15dbc7d84a7ceac"
   },
   "outputs": [
    {
     "data": {
      "text/plain": [
       "array([[0.5, 0. ],\n",
       "       [0. , 1. ]], dtype=float32)"
      ]
     },
     "execution_count": 40,
     "metadata": {},
     "output_type": "execute_result"
    }
   ],
   "source": [
    "a = tf.constant([[2, 0], [0, 1]], dtype=tf.float32)\n",
    "tf.matrix_inverse(a).eval()"
   ]
  },
  {
   "cell_type": "markdown",
   "metadata": {
    "school_cell_uuid": "0187ba97029e43ccbe3723e20c9f89fa"
   },
   "source": [
    "다음은 벡터와 행렬의 크기 및 차원을 바꾸는 명령이다.\n",
    "\n",
    "* `tf.reshape`: 벡터 행렬의 크기 변환\n",
    "* `tf.transpose`: 전치 연산\n",
    "* `tf.expand_dims`: 지정한 축으로 차원을 추가\n",
    "* `tf.squeeze`: 벡터로 차원을 축소"
   ]
  },
  {
   "cell_type": "code",
   "execution_count": 41,
   "metadata": {
    "school_cell_uuid": "74f46834aeca41de95ab9bcab32ec13d",
    "scrolled": true
   },
   "outputs": [
    {
     "name": "stdout",
     "output_type": "stream",
     "text": [
      "a     : Tensor(\"range_2:0\", shape=(6,), dtype=int32)\n",
      "a_2d  : Tensor(\"Reshape:0\", shape=(2, 3), dtype=int32)\n",
      "a_2d_t: Tensor(\"transpose:0\", shape=(3, 2), dtype=int32)\n",
      "a_3d  : Tensor(\"ExpandDims:0\", shape=(1, 2, 3), dtype=int32)\n",
      "a_4d  : Tensor(\"ExpandDims_1:0\", shape=(1, 2, 3, 1), dtype=int32)\n",
      "a_1d  : Tensor(\"Squeeze:0\", shape=(2, 3), dtype=int32)\n"
     ]
    }
   ],
   "source": [
    "a = tf.range(6, dtype=tf.int32)      # [0, 1, 2, 3, 4, 5]\n",
    "print(\"a     :\", a)\n",
    "a_2d = tf.reshape(a, (2, 3))  # 1차원 벡터는 2x3 크기의 2차원 행렬로 변환\n",
    "print(\"a_2d  :\", a_2d)\n",
    "a_2d_t = tf.transpose(a_2d)   # 2x3 크기의 2차원 행렬을 3x2 크기의 2차원 행렬로 변환\n",
    "print(\"a_2d_t:\", a_2d_t)\n",
    "a_3d = tf.expand_dims(a_2d, 0) # 2x3 크기의 2차원 행렬을 1x2x3 크기의 3차원 행렬로 변환\n",
    "print(\"a_3d  :\", a_3d)\n",
    "a_4d = tf.expand_dims(a_3d, 3) # 1x2x3 크기의 3차원 행렬을 1x2x3x1 크기의 4차원 행렬로 변환\n",
    "print(\"a_4d  :\", a_4d)\n",
    "a_1d = tf.squeeze(a_4d)\n",
    "print(\"a_1d  :\", a_1d)           # 1x2x3x1 크기의 4차원 행렬을 1차원 벡터로 변환"
   ]
  },
  {
   "cell_type": "markdown",
   "metadata": {
    "school_cell_uuid": "6804c15c78464ff78efa6038b433a267"
   },
   "source": [
    "벡터/행렬을 나누거나 두 개 이상의 벡터/행렬을 합치는 명령어도 많이 사용된다.\n",
    "\n",
    "* `tf.slice`: 특정 부분을 추출\n",
    "* `tf.split`: 분할\n",
    "* `tf.concat`: 합치기\n",
    "* `tf.tile`: 복제-붙이기\n",
    "* `tf.stack`: 합성\n",
    "* `tf.unstack`: 분리 "
   ]
  },
  {
   "cell_type": "code",
   "execution_count": 42,
   "metadata": {
    "school_cell_uuid": "497e327b348343c2872c5d6480633701"
   },
   "outputs": [
    {
     "data": {
      "text/plain": [
       "array([[ 0,  1,  2,  3],\n",
       "       [ 4,  5,  6,  7],\n",
       "       [ 8,  9, 10, 11]])"
      ]
     },
     "execution_count": 42,
     "metadata": {},
     "output_type": "execute_result"
    }
   ],
   "source": [
    "a = tf.reshape(tf.range(12), (3, 4))\n",
    "a.eval()"
   ]
  },
  {
   "cell_type": "code",
   "execution_count": 43,
   "metadata": {
    "school_cell_uuid": "b97fbc4f211c4fed9963757bd04a2716"
   },
   "outputs": [
    {
     "data": {
      "text/plain": [
       "array([[1, 2, 3],\n",
       "       [5, 6, 7]])"
      ]
     },
     "execution_count": 43,
     "metadata": {},
     "output_type": "execute_result"
    }
   ],
   "source": [
    "tf.slice(a, [0, 1], [2, 3]).eval()   # (0, 1)위치에서 (2개, 3개)만큼 뽑아낸다."
   ]
  },
  {
   "cell_type": "code",
   "execution_count": 44,
   "metadata": {
    "school_cell_uuid": "6eca3663d9c24b10b52dacabc21078f1"
   },
   "outputs": [
    {
     "name": "stdout",
     "output_type": "stream",
     "text": [
      "[[0 1]\n",
      " [4 5]\n",
      " [8 9]]\n",
      "[[ 2  3]\n",
      " [ 6  7]\n",
      " [10 11]]\n"
     ]
    }
   ],
   "source": [
    "a1, a2 = tf.split(a, num_or_size_splits=2, axis=1)  # 가로축(axis=1)을 따라 2개로 분할 \n",
    "print(a1.eval())\n",
    "print(a2.eval())"
   ]
  },
  {
   "cell_type": "code",
   "execution_count": 45,
   "metadata": {
    "school_cell_uuid": "2a75064371114168a0d5a035ec3b9fe5"
   },
   "outputs": [
    {
     "data": {
      "text/plain": [
       "array([[ 0,  1,  2,  3],\n",
       "       [ 4,  5,  6,  7],\n",
       "       [ 8,  9, 10, 11]])"
      ]
     },
     "execution_count": 45,
     "metadata": {},
     "output_type": "execute_result"
    }
   ],
   "source": [
    "tf.concat([a1, a2], 1).eval() # 가로축(axis=1)을 따라 a1, a2를 합치기"
   ]
  },
  {
   "cell_type": "code",
   "execution_count": 46,
   "metadata": {
    "school_cell_uuid": "62f90c88592744a985394f14592e5aff"
   },
   "outputs": [
    {
     "data": {
      "text/plain": [
       "array([[0, 1, 0, 1, 0, 1],\n",
       "       [4, 5, 4, 5, 4, 5],\n",
       "       [8, 9, 8, 9, 8, 9]])"
      ]
     },
     "execution_count": 46,
     "metadata": {},
     "output_type": "execute_result"
    }
   ],
   "source": [
    "tf.tile(a1, [1, 3]).eval()  # 가로축(axis=1)을 따라 3개로 복사-붙이기"
   ]
  },
  {
   "cell_type": "code",
   "execution_count": 47,
   "metadata": {
    "school_cell_uuid": "3e36150f2e77462b988bd54d6f4dff99"
   },
   "outputs": [
    {
     "data": {
      "text/plain": [
       "<tf.Tensor 'stack:0' shape=(2, 3, 2) dtype=int32>"
      ]
     },
     "execution_count": 47,
     "metadata": {},
     "output_type": "execute_result"
    }
   ],
   "source": [
    "a3 = tf.stack([a1, a2])  # 3x2 행렬 a1, a2를 추가적인 차원으로 붙여서 2x3x2 고차원 텐서 생성\n",
    "a3"
   ]
  },
  {
   "cell_type": "code",
   "execution_count": 48,
   "metadata": {
    "school_cell_uuid": "b39d42b30cff43b4b1fd8b3237e1e94f"
   },
   "outputs": [
    {
     "data": {
      "text/plain": [
       "[<tf.Tensor 'unstack:0' shape=(2, 2) dtype=int32>,\n",
       " <tf.Tensor 'unstack:1' shape=(2, 2) dtype=int32>,\n",
       " <tf.Tensor 'unstack:2' shape=(2, 2) dtype=int32>]"
      ]
     },
     "execution_count": 48,
     "metadata": {},
     "output_type": "execute_result"
    }
   ],
   "source": [
    "tf.unstack(a3, axis=1)  # 2x3x2 고차원 텐서를 0차원으로 풀어서 3개의 2x2 행렬 생성"
   ]
  },
  {
   "cell_type": "markdown",
   "metadata": {
    "school_cell_uuid": "cd79ca0ccf2d478482eae87f72dd954b"
   },
   "source": [
    "nn 서브패키지에는 신경망에서 쓰이는 함수들도 구현되어 있다.\n",
    "\n",
    "* `tf.nn.sigmoid`: 로지스틱 함수\n",
    "* `tf.nn.softplus`: 소프트플러스 함수\n",
    "* `tf.nn.softsign`: 소프트사인 함수"
   ]
  },
  {
   "cell_type": "code",
   "execution_count": 49,
   "metadata": {
    "school_cell_uuid": "ef1120ca1d1d4eec9454831ddd174ac3"
   },
   "outputs": [
    {
     "data": {
      "image/png": "[encoded data removed]",
      "text/plain": [
       "<Figure size 432x288 with 1 Axes>"
      ]
     },
     "metadata": {
      "needs_background": "light"
     },
     "output_type": "display_data"
    }
   ],
   "source": [
    "import matplotlib.pylab as plt\n",
    "x = tf.linspace(-2.0, 2, 1000)\n",
    "y1 = tf.nn.sigmoid(x)\n",
    "y2 = tf.nn.softplus(x)\n",
    "y3 = tf.nn.softsign(x)\n",
    "\n",
    "plt.plot(x.eval(), y1.eval(), \"-\", label=\"sigmoid\")\n",
    "plt.plot(x.eval(), y2.eval(), \"--\", label=\"softplus\")\n",
    "plt.plot(x.eval(), y3.eval(), \":\", label=\"softsign\")\n",
    "plt.xlabel(\"x\")\n",
    "plt.title(\"sigmoid, softplus, softsign\")\n",
    "plt.legend()\n",
    "plt.show()"
   ]
  },
  {
   "cell_type": "markdown",
   "metadata": {
    "school_cell_uuid": "160b4968aeca474f83e545a05b9b58fc"
   },
   "source": [
    "## 자동 형변환"
   ]
  },
  {
   "cell_type": "markdown",
   "metadata": {
    "school_cell_uuid": "dba4c7d8cfd64c37af63f245142a2169"
   },
   "source": [
    "TensorFlow 연산자에 NumPy 배열이 들어가면 자동으로 상수형 텐서 자료형으로 형변환(coercion)되어 연산이 이루어진다."
   ]
  },
  {
   "cell_type": "code",
   "execution_count": 50,
   "metadata": {
    "school_cell_uuid": "10f909be4cc44592a812715aa6e334bc"
   },
   "outputs": [
    {
     "data": {
      "text/plain": [
       "<tf.Tensor 'MatMul_1:0' shape=(2, 1) dtype=float32>"
      ]
     },
     "execution_count": 50,
     "metadata": {},
     "output_type": "execute_result"
    }
   ],
   "source": [
    "a = np.ones((2, 3), dtype=np.float32)\n",
    "b = tf.ones([3, 1], dtype=tf.float32)\n",
    "tf.matmul(a, b)"
   ]
  },
  {
   "cell_type": "markdown",
   "metadata": {
    "school_cell_uuid": "c878fc07fcc14b6994e915f2c7fe77f5"
   },
   "source": [
    "## 미분"
   ]
  },
  {
   "cell_type": "markdown",
   "metadata": {
    "school_cell_uuid": "70e9d8ece68040349072fa52c2daea0b"
   },
   "source": [
    "TensorFlow 도 심볼릭 연산에 의한 미분 계산이 가능하다. 도함수를 만들 때는 `tf.gradients` 명령을 사용한다."
   ]
  },
  {
   "cell_type": "code",
   "execution_count": 51,
   "metadata": {
    "school_cell_uuid": "73ed72bac16748f79399f90cf7612a60",
    "scrolled": false
   },
   "outputs": [
    {
     "name": "stdout",
     "output_type": "stream",
     "text": [
      "4.0\n",
      "[4.0]\n"
     ]
    }
   ],
   "source": [
    "x = tf.Variable(2.0)\n",
    "f = x ** 2\n",
    "fx = tf.gradients(f, [x])\n",
    "\n",
    "with tf.Session() as sess:\n",
    "    init = tf.global_variables_initializer()\n",
    "    sess.run(init)\n",
    "    print(sess.run(f))\n",
    "    print(sess.run(fx))"
   ]
  },
  {
   "cell_type": "markdown",
   "metadata": {
    "school_cell_uuid": "69cea8425d4b492f82c7daa362066d3b"
   },
   "source": [
    "## TensorFlow를 이용한 선형회귀"
   ]
  },
  {
   "cell_type": "markdown",
   "metadata": {
    "school_cell_uuid": "9ce8f8128f684e35a7128bf48a06a456"
   },
   "source": [
    "지금까지 배운 개념을 이용해 보스턴 주택가격을 예측하는 선형회귀모형을 구현해 보자."
   ]
  },
  {
   "cell_type": "code",
   "execution_count": 53,
   "metadata": {
    "school_cell_uuid": "193b003f3cdf4d48841b464a6de71eea"
   },
   "outputs": [
    {
     "data": {
      "text/html": [
       "<div>\n",
       "<style scoped>\n",
       "    .dataframe tbody tr th:only-of-type {\n",
       "        vertical-align: middle;\n",
       "    }\n",
       "\n",
       "    .dataframe tbody tr th {\n",
       "        vertical-align: top;\n",
       "    }\n",
       "\n",
       "    .dataframe thead th {\n",
       "        text-align: right;\n",
       "    }\n",
       "</style>\n",
       "<table border=\"1\" class=\"dataframe\">\n",
       "  <thead>\n",
       "    <tr style=\"text-align: right;\">\n",
       "      <th></th>\n",
       "      <th>CRIM</th>\n",
       "      <th>ZN</th>\n",
       "      <th>INDUS</th>\n",
       "      <th>CHAS</th>\n",
       "      <th>NOX</th>\n",
       "      <th>RM</th>\n",
       "      <th>AGE</th>\n",
       "      <th>DIS</th>\n",
       "      <th>RAD</th>\n",
       "      <th>TAX</th>\n",
       "      <th>PTRATIO</th>\n",
       "      <th>B</th>\n",
       "      <th>LSTAT</th>\n",
       "      <th>const</th>\n",
       "    </tr>\n",
       "  </thead>\n",
       "  <tbody>\n",
       "    <tr>\n",
       "      <th>501</th>\n",
       "      <td>0.06263</td>\n",
       "      <td>0.0</td>\n",
       "      <td>11.93</td>\n",
       "      <td>0.0</td>\n",
       "      <td>0.573</td>\n",
       "      <td>6.593</td>\n",
       "      <td>69.1</td>\n",
       "      <td>2.4786</td>\n",
       "      <td>1.0</td>\n",
       "      <td>273.0</td>\n",
       "      <td>21.0</td>\n",
       "      <td>391.99</td>\n",
       "      <td>9.67</td>\n",
       "      <td>1.0</td>\n",
       "    </tr>\n",
       "    <tr>\n",
       "      <th>502</th>\n",
       "      <td>0.04527</td>\n",
       "      <td>0.0</td>\n",
       "      <td>11.93</td>\n",
       "      <td>0.0</td>\n",
       "      <td>0.573</td>\n",
       "      <td>6.120</td>\n",
       "      <td>76.7</td>\n",
       "      <td>2.2875</td>\n",
       "      <td>1.0</td>\n",
       "      <td>273.0</td>\n",
       "      <td>21.0</td>\n",
       "      <td>396.90</td>\n",
       "      <td>9.08</td>\n",
       "      <td>1.0</td>\n",
       "    </tr>\n",
       "    <tr>\n",
       "      <th>503</th>\n",
       "      <td>0.06076</td>\n",
       "      <td>0.0</td>\n",
       "      <td>11.93</td>\n",
       "      <td>0.0</td>\n",
       "      <td>0.573</td>\n",
       "      <td>6.976</td>\n",
       "      <td>91.0</td>\n",
       "      <td>2.1675</td>\n",
       "      <td>1.0</td>\n",
       "      <td>273.0</td>\n",
       "      <td>21.0</td>\n",
       "      <td>396.90</td>\n",
       "      <td>5.64</td>\n",
       "      <td>1.0</td>\n",
       "    </tr>\n",
       "    <tr>\n",
       "      <th>504</th>\n",
       "      <td>0.10959</td>\n",
       "      <td>0.0</td>\n",
       "      <td>11.93</td>\n",
       "      <td>0.0</td>\n",
       "      <td>0.573</td>\n",
       "      <td>6.794</td>\n",
       "      <td>89.3</td>\n",
       "      <td>2.3889</td>\n",
       "      <td>1.0</td>\n",
       "      <td>273.0</td>\n",
       "      <td>21.0</td>\n",
       "      <td>393.45</td>\n",
       "      <td>6.48</td>\n",
       "      <td>1.0</td>\n",
       "    </tr>\n",
       "    <tr>\n",
       "      <th>505</th>\n",
       "      <td>0.04741</td>\n",
       "      <td>0.0</td>\n",
       "      <td>11.93</td>\n",
       "      <td>0.0</td>\n",
       "      <td>0.573</td>\n",
       "      <td>6.030</td>\n",
       "      <td>80.8</td>\n",
       "      <td>2.5050</td>\n",
       "      <td>1.0</td>\n",
       "      <td>273.0</td>\n",
       "      <td>21.0</td>\n",
       "      <td>396.90</td>\n",
       "      <td>7.88</td>\n",
       "      <td>1.0</td>\n",
       "    </tr>\n",
       "  </tbody>\n",
       "</table>\n",
       "</div>"
      ],
      "text/plain": [
       "        CRIM   ZN  INDUS  CHAS    NOX     RM   AGE     DIS  RAD    TAX  \\\n",
       "501  0.06263  0.0  11.93   0.0  0.573  6.593  69.1  2.4786  1.0  273.0   \n",
       "502  0.04527  0.0  11.93   0.0  0.573  6.120  76.7  2.2875  1.0  273.0   \n",
       "503  0.06076  0.0  11.93   0.0  0.573  6.976  91.0  2.1675  1.0  273.0   \n",
       "504  0.10959  0.0  11.93   0.0  0.573  6.794  89.3  2.3889  1.0  273.0   \n",
       "505  0.04741  0.0  11.93   0.0  0.573  6.030  80.8  2.5050  1.0  273.0   \n",
       "\n",
       "     PTRATIO       B  LSTAT  const  \n",
       "501     21.0  391.99   9.67    1.0  \n",
       "502     21.0  396.90   9.08    1.0  \n",
       "503     21.0  396.90   5.64    1.0  \n",
       "504     21.0  393.45   6.48    1.0  \n",
       "505     21.0  396.90   7.88    1.0  "
      ]
     },
     "execution_count": 53,
     "metadata": {},
     "output_type": "execute_result"
    }
   ],
   "source": [
    "from sklearn.datasets import load_boston\n",
    "import pandas as pd\n",
    "boston = load_boston()\n",
    "df = pd.DataFrame(boston.data, columns=boston.feature_names)\n",
    "df['const'] = np.ones(df.shape[0])\n",
    "df.tail()"
   ]
  },
  {
   "cell_type": "code",
   "execution_count": 54,
   "metadata": {
    "school_cell_uuid": "ee4955ae2b454a85903b5b568ada55c1"
   },
   "outputs": [
    {
     "name": "stdout",
     "output_type": "stream",
     "text": [
      "예측한 집값 : [18.40613603] 실제 집값 : 18.2\n"
     ]
    }
   ],
   "source": [
    "n, m = df.shape\n",
    "\n",
    "X = tf.placeholder(tf.float64, shape=(n, m))\n",
    "y = tf.placeholder(tf.float64, shape=(n, 1))\n",
    "\n",
    "XT = tf.transpose(X)\n",
    "w = tf.matmul(tf.matmul(tf.matrix_inverse(tf.matmul(XT, X)), XT), y)\n",
    "y_pred = tf.matmul(X, w)\n",
    "\n",
    "with tf.Session() as sess:\n",
    "    y_pred_ = sess.run(y_pred,\n",
    "                       feed_dict={X: df.values, y: boston.target.reshape(-1, 1)})\n",
    "\n",
    "print(\"예측한 집값 :\", y_pred_[19], \"실제 집값 :\", boston.target[19])"
   ]
  },
  {
   "cell_type": "markdown",
   "metadata": {
    "school_cell_uuid": "581b252b81e24b78a8bf161e16479800"
   },
   "source": [
    "## 퍼셉트론"
   ]
  },
  {
   "cell_type": "markdown",
   "metadata": {
    "school_cell_uuid": "82a294bfdc354b31a412f17ed124538b"
   },
   "source": [
    "이번엔 Iris 데이터 중 두 종류를 분류하는 퍼셉트론을 제작한다. y값은 1 또는 -1을 사용하고 활성화 함수로는 하이퍼탄젠트(hypertangent)함수를 사용한다."
   ]
  },
  {
   "cell_type": "code",
   "execution_count": 69,
   "metadata": {
    "school_cell_uuid": "a208a3840ab44bb8a13d5cc7822cf00d"
   },
   "outputs": [],
   "source": [
    "from sklearn.datasets import load_iris\n",
    "\n",
    "iris = load_iris()\n",
    "idx = np.in1d(iris.target, [0, 2])\n",
    "X_data = iris.data[idx, 0:2]\n",
    "y_data = (iris.target[idx] - 1.0)[:, np.newaxis]  # y=1 또는 y=-1. 2차원임을 명시"
   ]
  },
  {
   "cell_type": "markdown",
   "metadata": {
    "school_cell_uuid": "c493b9fb172a4cc68510a239a5370426"
   },
   "source": [
    "## 최적화"
   ]
  },
  {
   "cell_type": "markdown",
   "metadata": {
    "school_cell_uuid": "38ffdf244d0b4308b82a9ba7fad0b1ac"
   },
   "source": [
    "TensorFlow에는 Theano와 달리 최적화를 위한 `GradientDescentOptimizer` 등의 클래스가 미리 구현되어 있으므로 사용자가 구현할 필요가 없다. 최적화 관련 클래스를 생성하고 `minimize`명령에 최소화 하고 싶은 값의 텐서를 입력하면 된다. "
   ]
  },
  {
   "cell_type": "code",
   "execution_count": 71,
   "metadata": {
    "school_cell_uuid": "dca306ace07f41e78a167281fdfa9772",
    "scrolled": false
   },
   "outputs": [
    {
     "name": "stdout",
     "output_type": "stream",
     "text": [
      "Tensor(\"Sum:0\", shape=(), dtype=float64)\n"
     ]
    }
   ],
   "source": [
    "tf.reset_default_graph()  # 지금까지 생성된 모든 텐서를 그래프에서 제거\n",
    "\n",
    "np.random.seed(0)\n",
    "with tf.variable_scope(\"perceptron\", reuse=tf.AUTO_REUSE):\n",
    "    w = 1e-3 * tf.get_variable(\"weight\", [2, 1], dtype=tf.float64,\n",
    "                               initializer=tf.random_uniform_initializer())\n",
    "    b = 1e-3 * tf.get_variable(\"bias\", [], dtype=tf.float64,\n",
    "                               initializer=tf.random_uniform_initializer())\n",
    "    z = tf.tanh(tf.matmul(X_data, w) + b)\n",
    "\n",
    "zero = np.zeros(1, dtype=np.float64)[0]  # float64 자료형의 0 값 생성\n",
    "cost = tf.reduce_sum(tf.maximum(zero, tf.multiply(-y_data, z)))\n",
    "optimizer = tf.train.GradientDescentOptimizer(1e-1)\n",
    "train = optimizer.minimize(cost)"
   ]
  },
  {
   "cell_type": "markdown",
   "metadata": {
    "collapsed": true,
    "school_cell_uuid": "527432ed8f6d4b3c84600f7f2227f119"
   },
   "source": [
    "## TensorBoard"
   ]
  },
  {
   "cell_type": "markdown",
   "metadata": {
    "collapsed": true,
    "school_cell_uuid": "30949be804524bee98824bbe76e66c90"
   },
   "source": [
    "TensorFlow는 모형 내부와 결과를 모니터링 할 수 있는 텐서보드(TensorBoard) 라는 웹서버를 제공한다."
   ]
  },
  {
   "cell_type": "markdown",
   "metadata": {
    "school_cell_uuid": "813cb64e4b4c4dc0b96da1aff4d5b559"
   },
   "source": [
    "텐서보드 웹서버는 포트 6006을 사용하므로 만약 도커를 사용하는 경우에는 다음과 같이 포트를 열고 실행해야 한다.\n",
    "\n",
    "```\n",
    "docker run --name rpython -it -p 8888:8888 -p 6006:6006 datascienceschool/rpython\n",
    "```"
   ]
  },
  {
   "cell_type": "markdown",
   "metadata": {
    "school_cell_uuid": "60ff836f6b4c43a6aaa7972526468170"
   },
   "source": [
    "### 텐서보드 용 로그 생성"
   ]
  },
  {
   "cell_type": "markdown",
   "metadata": {
    "school_cell_uuid": "7b1241cb6ef04a88a765130a3d4a33e4"
   },
   "source": [
    "TensorFlow 처리 과정에서 로그 파일을 만들면 추후 텐서보드 등의 프로그램에서 읽어서 웹 화면에 나타낼 뿐이다. 따라서 계산 코드에서 로그 생성을 위한 코드를 추가해 주어야 한다. \n",
    "\n",
    "로그 코드는 다음과 같은 순서로 추가한다.\n",
    "\n",
    "1. `summary.scalar`(저장하려는 값이 스칼라 값일 때) 명령이나 `summary.histogram`(저장하려는 값이 다차원 값일 때) 명령으로 개별 변수 기록용 데이터 생성한다. \n",
    "2. `summary.merge_all` 명령으로 개별 변수 기록용 데이터를 하나로 합침. 일부만 합치고 싶다면 `summary.merge()`함수의 입력값으로 합치고 싶은  개별 변수 기록용 데이터를 리스트 형태로 입력하면된다. \n",
    "3. 세션 생성후 `tf.summary.FileWriter` 명령으로 기록용 객체 생성(다음 예제의 `writer`). 이 때 입력값으로 기록할 디렉토리를 설정한다.\n",
    "4. `sess.run` 명령으로 합쳐진 변수 기록용 데이터(다음 예제의 `merged`)를 실행하면 기록.\n",
    "5. 기록용 객체의 `add_summary` 명령으로 실행시킨 변수 기록용 데이터를 실제 파일에 쓰기."
   ]
  },
  {
   "cell_type": "markdown",
   "metadata": {
    "school_cell_uuid": "7e9e38a710de4ee8a9b404fc61ebb99e"
   },
   "source": [
    "방금 전 구현한 퍼셉트론 예제를 텐서보드용 로그를 생성하면서 실행한다. 여기에서는 `/home/dockeruser/logs/`라는 디렉토리에 로그를 저장한다. 기존의 로그 파일이 존재한다면 실행하기 전에 과거 로그를 삭제한다."
   ]
  },
  {
   "cell_type": "markdown",
   "metadata": {
    "school_cell_uuid": "d8800f0a8abb492ca8d3d40a62b89534"
   },
   "source": [
    "!rm -rf /home/dockeruser/logs/*"
   ]
  },
  {
   "cell_type": "code",
   "execution_count": 57,
   "metadata": {
    "school_cell_uuid": "9e43d597cec4471a9f111d30b7ddd0ef"
   },
   "outputs": [
    {
     "name": "stdout",
     "output_type": "stream",
     "text": [
      "   0 : 0.17248 \n",
      "  10 : 0.07796 \n",
      "  20 : 0.01540 \n",
      "  30 : 0.01215 \n",
      "  40 : 0.00890 \n",
      "  50 : 0.00568 \n",
      "  60 : 0.00375 \n",
      "  70 : 0.00153 \n",
      "  80 : 0.00488 \n",
      "  90 : 0.00105 \n",
      " 100 : 0.00202 \n",
      " 110 : 0.00143 \n",
      " 120 : 0.00062 \n",
      " 130 : 0.00006 \n",
      " 140 : 0.00006 \n",
      " 150 : 0.00006 \n",
      " 160 : 0.00006 \n",
      " 170 : 0.00006 \n",
      " 180 : 0.00006 \n",
      " 190 : 0.00006 \n"
     ]
    }
   ],
   "source": [
    "w_summary = tf.summary.histogram(\"w\", w)\n",
    "b_summary = tf.summary.scalar(\"b\", b)\n",
    "z_summary = tf.summary.histogram(\"z\", z)\n",
    "cost_summary = tf.summary.scalar(\"cost\", cost)\n",
    "merged = tf.summary.merge_all()\n",
    "\n",
    "init = tf.global_variables_initializer()\n",
    "with tf.Session() as sess:\n",
    "    writer = tf.summary.FileWriter(\"logs\", sess.graph)\n",
    "    sess.run(init)\n",
    "    for i in range(200):\n",
    "        if i % 10 == 0:\n",
    "            _, cost_, summary = sess.run([train, cost, merged])\n",
    "            print(\"{:4d} : {:.5f} \".format(i, cost_))\n",
    "        else:\n",
    "            _, summary = sess.run([train, merged])\n",
    "        writer.add_summary(summary, i)\n",
    "    y_pred = sess.run(tf.sign(z))"
   ]
  },
  {
   "cell_type": "code",
   "execution_count": 58,
   "metadata": {
    "school_cell_uuid": "fa766ad7bb7d45b69ae70400894f2dcb"
   },
   "outputs": [
    {
     "data": {
      "text/plain": [
       "array([[49,  1],\n",
       "       [ 1, 49]], dtype=int64)"
      ]
     },
     "execution_count": 58,
     "metadata": {},
     "output_type": "execute_result"
    }
   ],
   "source": [
    "from sklearn.metrics import confusion_matrix\n",
    "\n",
    "confusion_matrix(y_data, y_pred)"
   ]
  },
  {
   "cell_type": "markdown",
   "metadata": {
    "school_cell_uuid": "89e4dfdaa3134a17abc476a8120dfea2"
   },
   "source": [
    "### 텐서보드 가동"
   ]
  },
  {
   "cell_type": "markdown",
   "metadata": {
    "school_cell_uuid": "e6222b92af604a288a1a3b119feb22ee"
   },
   "source": [
    "텐서보드를 가동하기 위해서는 콘솔에서 다음과 같이 ip 주소와 로그 디렉토리를 설정하여 실행한다.\n",
    "\n",
    "```\n",
    "$ tensorboard --host=127.0.0.1 --logdir=C:\\workspace\\myproject\\mytasks\\mytask5h_for_Jupyter_notebook\\logs\n",
    "```"
   ]
  },
  {
   "cell_type": "markdown",
   "metadata": {
    "school_cell_uuid": "b406e61bcdc64f8c81d1ae5b73f512be"
   },
   "source": [
    "위와 같이 실행한 다음에는 다음 주소로 연결하면 텐서보드 화면을 볼 수 있다.\n",
    "\n",
    "- http://localhost:6006\n",
    "\n",
    "도커 환경을 사용하는 경우에는\n",
    "\n",
    "- http://192.168.99.100:6006 "
   ]
  },
  {
   "cell_type": "markdown",
   "metadata": {
    "school_cell_uuid": "804c09fa564143d89c4db46a43f9c290"
   },
   "source": [
    "<img src=\"https://datascienceschool.net/upfiles/1e9a73b99c68480d8a4e2c64c0d0ecac.png\" style=\"width:100%;\">"
   ]
  },
  {
   "cell_type": "markdown",
   "metadata": {
    "school_cell_uuid": "1fbcebcdc91b4927ba89f255b4cd0df5"
   },
   "source": [
    "그림 54.8: 텐서보드 실행 화면"
   ]
  },
  {
   "cell_type": "markdown",
   "metadata": {
    "school_cell_uuid": "24628a4228394ca59289bf3931b89eca"
   },
   "source": [
    "텐서보드는 정의한 그래프를 시각화해주는 기능도 있다. 상단 메뉴의 \"GRAPHS\"를 클릭하면 다음처럼 우리가 정의한 모형의 그래프 구조를 시각화하여 확인 할 수 있다."
   ]
  },
  {
   "cell_type": "markdown",
   "metadata": {
    "school_cell_uuid": "804c09fa564143d89c4db46a43f9c290"
   },
   "source": [
    "<img src=\"https://datascienceschool.net/upfiles/415ee6834f4b489b85074862b7479f48.png\" style=\"width:100%;\">"
   ]
  },
  {
   "cell_type": "markdown",
   "metadata": {
    "school_cell_uuid": "cd498bc4c12f490a8437a2feb900ead2"
   },
   "source": [
    "그림 54.9: 텐서보드의 그래프 시각화 화면"
   ]
  },
  {
   "cell_type": "markdown",
   "metadata": {
    "bootstrap": {
     "panel": {
      "class": "panel-default"
     }
    },
    "school_cell_uuid": "e6bc75db94b74b66ba24d67504a25825"
   },
   "source": [
    "#### 연습 문제 1\n",
    "\n",
    "위 퍼셉트론 코드를 다음과 같이 고쳐라.\n",
    "\n",
    "1. y값은 0과 1이라는 값만 가진다.\n",
    "2. 활성화 함수는 로지스틱 함수를 사용한다.\n",
    "3. 코스트 함수는 다음과 같은 오차 제곱 합수를 사용한다.\n",
    "\n",
    "$$ C = \\sum_{i=1}^N (y - \\hat{y})^2 $$"
   ]
  }
 ],
 "metadata": {
  "anaconda-cloud": {},
  "kernelspec": {
   "display_name": "Python 3",
   "language": "python",
   "name": "python3"
  },
  "language_info": {
   "codemirror_mode": {
    "name": "ipython",
    "version": 3
   },
   "file_extension": ".py",
   "mimetype": "text/x-python",
   "name": "python",
   "nbconvert_exporter": "python",
   "pygments_lexer": "ipython3",
   "version": "3.6.8"
  },
  "toc": {
   "base_numbering": 1,
   "nav_menu": {},
   "number_sections": false,
   "sideBar": true,
   "skip_h1_title": false,
   "title_cell": "Table of Contents",
   "title_sidebar": "Contents",
   "toc_cell": false,
   "toc_position": {},
   "toc_section_display": true,
   "toc_window_display": false
  }
 },
 "nbformat": 4,
 "nbformat_minor": 1
}
